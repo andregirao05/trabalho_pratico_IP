{
 "cells": [
  {
   "cell_type": "markdown",
   "metadata": {},
   "source": [
    "# Código para geração de gráficos\n",
    "\n",
    "O código abaixo cria os gráficos utilizados no trabalho com base nos arquivos de saída do algoritmo criado com Java."
   ]
  },
  {
   "cell_type": "markdown",
   "metadata": {},
   "source": [
    "## Importando dados\n",
    "\n",
    "Antes de mais nada, precisamos importar os dados de duração do algoritmo de determinantes aplicando:\n",
    "\n",
    "- Nenhuma otimização (baseline);\n",
    "\n",
    "- Otimizações iniciais (versão 1);\n",
    "\n",
    "- Otimizações extras (versão 2)."
   ]
  },
  {
   "cell_type": "code",
   "execution_count": 26,
   "metadata": {},
   "outputs": [],
   "source": [
    "import pandas as pd\n",
    "from os import path, pardir, getcwd\n",
    "\n",
    "# Constantes que servem de rótulos dos dataframes seguintes\n",
    "HEADER = ['tentativa_1', 'tentativa_2', 'tentativa_3']\n",
    "INDEX = [3, 5, 7, 9, 11, 13]\n",
    "\n",
    "#Diretório pai\n",
    "parent_path = path.abspath(path.join(getcwd(), pardir))\n",
    "output_path = path.join(parent_path, 'saida')\n",
    "\n",
    "# Bases de dados extraídas dos arquivos de saída de cada algoritmo\n",
    "\n",
    "# Arquivos de saída do algoritmo baseline (em ns e em ms)\n",
    "baseline_times_ns = pd.read_csv(path.join(output_path, 'baseline_ns.txt'), sep=' ', lineterminator='\\n', names=HEADER, index_col=False)\n",
    "baseline_times_ns.index = INDEX\n",
    "\n",
    "baseline_times_ms = pd.read_csv(path.join(output_path, 'baseline_ms.txt'), sep=' ', lineterminator='\\n', names=HEADER, index_col=False)\n",
    "baseline_times_ms.index = INDEX\n",
    "\n",
    "\n",
    "# Arquivos de saída do algoritmo otimização simples (em ns e em ms)\n",
    "v1_optimization_times_ns = pd.read_csv(path.join(output_path, 'otimizacao_v1_ns.txt'), sep=' ', lineterminator='\\n', names=HEADER, index_col=False)\n",
    "v1_optimization_times_ns.index = INDEX\n",
    "\n",
    "v1_optimization_times_ms = pd.read_csv(path.join(output_path, 'otimizacao_v1_ms.txt'), sep=' ', lineterminator='\\n', names=HEADER, index_col=False)\n",
    "v1_optimization_times_ms.index = INDEX\n",
    "\n",
    "\n",
    "# Arquivos de saída do algoritmo otimização extra (em ns e em ms)\n",
    "v2_optimization_times_ns = pd.read_csv(path.join(output_path, 'otimizacao_v2_ns.txt'), sep=' ', lineterminator='\\n', names=HEADER, index_col=False)\n",
    "v2_optimization_times_ns.index = INDEX\n",
    "\n",
    "v2_optimization_times_ms = pd.read_csv(path.join(output_path, 'otimizacao_v2_ms.txt'), sep=' ', lineterminator='\\n', names=HEADER, index_col=False)\n",
    "v2_optimization_times_ms.index = INDEX"
   ]
  },
  {
   "cell_type": "markdown",
   "metadata": {},
   "source": [
    "## Visualizando os dados\n",
    "\n",
    "Vamos mostrar o comportamento temporal dos algoritmos usando os dados importados. Antes disso, vamos visualizar as tabelas com os valores de tempo.\n",
    "\n",
    "Nas tabelas, as linhas representam a ordem matricial e as colunas representam as três tentativas utilizadas para fazer medições."
   ]
  },
  {
   "cell_type": "markdown",
   "metadata": {},
   "source": [
    "Primeiro, vamos adicionar aos dados as *médias* de cada algoritmo:"
   ]
  },
  {
   "cell_type": "code",
   "execution_count": 27,
   "metadata": {},
   "outputs": [],
   "source": [
    "baseline_times_ns['media'] = baseline_times_ns.mean(axis=1)\n",
    "baseline_times_ms['media'] = baseline_times_ms.mean(axis=1)\n",
    "\n",
    "v1_optimization_times_ns['media'] = v1_optimization_times_ns.mean(axis=1)\n",
    "v1_optimization_times_ms['media'] = v1_optimization_times_ms.mean(axis=1)\n",
    "\n",
    "v2_optimization_times_ns['media'] = v2_optimization_times_ns.mean(axis=1)\n",
    "v2_optimization_times_ms['media'] = v2_optimization_times_ms.mean(axis=1)"
   ]
  },
  {
   "cell_type": "markdown",
   "metadata": {},
   "source": [
    "Vamos adicionar aos dados o *desvio padrão* de cada algoritmo:"
   ]
  },
  {
   "cell_type": "code",
   "execution_count": 28,
   "metadata": {},
   "outputs": [],
   "source": [
    "baseline_times_ns['desvio'] = baseline_times_ns.std(axis=1)\n",
    "baseline_times_ms['desvio'] = baseline_times_ms.std(axis=1)\n",
    "\n",
    "v1_optimization_times_ns['desvio'] = v1_optimization_times_ns.std(axis=1)\n",
    "v1_optimization_times_ms['desvio'] = v1_optimization_times_ms.std(axis=1)\n",
    "\n",
    "v2_optimization_times_ns['desvio'] = v2_optimization_times_ns.std(axis=1)\n",
    "v2_optimization_times_ms['desvio'] = v2_optimization_times_ms.std(axis=1)"
   ]
  },
  {
   "cell_type": "markdown",
   "metadata": {},
   "source": [
    "Agora, podemos visualizar os dados em formato de tabela.\n",
    "\n",
    "Primeiro, o resultado da execução do algoritmo sem otimizações (baseline)."
   ]
  },
  {
   "cell_type": "code",
   "execution_count": 29,
   "metadata": {},
   "outputs": [
    {
     "data": {
      "text/html": [
       "<div>\n",
       "<style scoped>\n",
       "    .dataframe tbody tr th:only-of-type {\n",
       "        vertical-align: middle;\n",
       "    }\n",
       "\n",
       "    .dataframe tbody tr th {\n",
       "        vertical-align: top;\n",
       "    }\n",
       "\n",
       "    .dataframe thead th {\n",
       "        text-align: right;\n",
       "    }\n",
       "</style>\n",
       "<table border=\"1\" class=\"dataframe\">\n",
       "  <thead>\n",
       "    <tr style=\"text-align: right;\">\n",
       "      <th></th>\n",
       "      <th>tentativa_1</th>\n",
       "      <th>tentativa_2</th>\n",
       "      <th>tentativa_3</th>\n",
       "      <th>media</th>\n",
       "      <th>desvio</th>\n",
       "    </tr>\n",
       "  </thead>\n",
       "  <tbody>\n",
       "    <tr>\n",
       "      <th>3</th>\n",
       "      <td>44283</td>\n",
       "      <td>107998</td>\n",
       "      <td>163954</td>\n",
       "      <td>1.054117e+05</td>\n",
       "      <td>4.888970e+04</td>\n",
       "    </tr>\n",
       "    <tr>\n",
       "      <th>5</th>\n",
       "      <td>338809</td>\n",
       "      <td>284300</td>\n",
       "      <td>276817</td>\n",
       "      <td>2.999753e+05</td>\n",
       "      <td>2.762896e+04</td>\n",
       "    </tr>\n",
       "    <tr>\n",
       "      <th>7</th>\n",
       "      <td>7450144</td>\n",
       "      <td>10134753</td>\n",
       "      <td>17412725</td>\n",
       "      <td>1.166587e+07</td>\n",
       "      <td>4.208840e+06</td>\n",
       "    </tr>\n",
       "    <tr>\n",
       "      <th>9</th>\n",
       "      <td>229005678</td>\n",
       "      <td>82271042</td>\n",
       "      <td>116632163</td>\n",
       "      <td>1.426363e+08</td>\n",
       "      <td>6.266272e+07</td>\n",
       "    </tr>\n",
       "    <tr>\n",
       "      <th>11</th>\n",
       "      <td>10296979500</td>\n",
       "      <td>7336718657</td>\n",
       "      <td>7206334937</td>\n",
       "      <td>8.280011e+09</td>\n",
       "      <td>1.427205e+09</td>\n",
       "    </tr>\n",
       "    <tr>\n",
       "      <th>13</th>\n",
       "      <td>1104894652384</td>\n",
       "      <td>1102737675447</td>\n",
       "      <td>1101266217301</td>\n",
       "      <td>1.102966e+12</td>\n",
       "      <td>1.490089e+09</td>\n",
       "    </tr>\n",
       "  </tbody>\n",
       "</table>\n",
       "</div>"
      ],
      "text/plain": [
       "      tentativa_1    tentativa_2    tentativa_3         media        desvio\n",
       "3           44283         107998         163954  1.054117e+05  4.888970e+04\n",
       "5          338809         284300         276817  2.999753e+05  2.762896e+04\n",
       "7         7450144       10134753       17412725  1.166587e+07  4.208840e+06\n",
       "9       229005678       82271042      116632163  1.426363e+08  6.266272e+07\n",
       "11    10296979500     7336718657     7206334937  8.280011e+09  1.427205e+09\n",
       "13  1104894652384  1102737675447  1101266217301  1.102966e+12  1.490089e+09"
      ]
     },
     "execution_count": 29,
     "metadata": {},
     "output_type": "execute_result"
    }
   ],
   "source": [
    "baseline_times_ns"
   ]
  },
  {
   "cell_type": "code",
   "execution_count": 30,
   "metadata": {},
   "outputs": [
    {
     "data": {
      "text/html": [
       "<div>\n",
       "<style scoped>\n",
       "    .dataframe tbody tr th:only-of-type {\n",
       "        vertical-align: middle;\n",
       "    }\n",
       "\n",
       "    .dataframe tbody tr th {\n",
       "        vertical-align: top;\n",
       "    }\n",
       "\n",
       "    .dataframe thead th {\n",
       "        text-align: right;\n",
       "    }\n",
       "</style>\n",
       "<table border=\"1\" class=\"dataframe\">\n",
       "  <thead>\n",
       "    <tr style=\"text-align: right;\">\n",
       "      <th></th>\n",
       "      <th>tentativa_1</th>\n",
       "      <th>tentativa_2</th>\n",
       "      <th>tentativa_3</th>\n",
       "      <th>media</th>\n",
       "      <th>desvio</th>\n",
       "    </tr>\n",
       "  </thead>\n",
       "  <tbody>\n",
       "    <tr>\n",
       "      <th>3</th>\n",
       "      <td>0</td>\n",
       "      <td>0</td>\n",
       "      <td>0</td>\n",
       "      <td>0.000000e+00</td>\n",
       "      <td>0.000000</td>\n",
       "    </tr>\n",
       "    <tr>\n",
       "      <th>5</th>\n",
       "      <td>0</td>\n",
       "      <td>1</td>\n",
       "      <td>0</td>\n",
       "      <td>3.333333e-01</td>\n",
       "      <td>0.471405</td>\n",
       "    </tr>\n",
       "    <tr>\n",
       "      <th>7</th>\n",
       "      <td>7</td>\n",
       "      <td>10</td>\n",
       "      <td>17</td>\n",
       "      <td>1.133333e+01</td>\n",
       "      <td>4.189935</td>\n",
       "    </tr>\n",
       "    <tr>\n",
       "      <th>9</th>\n",
       "      <td>229</td>\n",
       "      <td>82</td>\n",
       "      <td>117</td>\n",
       "      <td>1.426667e+02</td>\n",
       "      <td>62.696801</td>\n",
       "    </tr>\n",
       "    <tr>\n",
       "      <th>11</th>\n",
       "      <td>10297</td>\n",
       "      <td>7337</td>\n",
       "      <td>7206</td>\n",
       "      <td>8.280000e+03</td>\n",
       "      <td>1427.236724</td>\n",
       "    </tr>\n",
       "    <tr>\n",
       "      <th>13</th>\n",
       "      <td>1104894</td>\n",
       "      <td>1102738</td>\n",
       "      <td>1101266</td>\n",
       "      <td>1.102966e+06</td>\n",
       "      <td>1489.873373</td>\n",
       "    </tr>\n",
       "  </tbody>\n",
       "</table>\n",
       "</div>"
      ],
      "text/plain": [
       "    tentativa_1  tentativa_2  tentativa_3         media       desvio\n",
       "3             0            0            0  0.000000e+00     0.000000\n",
       "5             0            1            0  3.333333e-01     0.471405\n",
       "7             7           10           17  1.133333e+01     4.189935\n",
       "9           229           82          117  1.426667e+02    62.696801\n",
       "11        10297         7337         7206  8.280000e+03  1427.236724\n",
       "13      1104894      1102738      1101266  1.102966e+06  1489.873373"
      ]
     },
     "execution_count": 30,
     "metadata": {},
     "output_type": "execute_result"
    }
   ],
   "source": [
    "baseline_times_ms"
   ]
  },
  {
   "cell_type": "markdown",
   "metadata": {},
   "source": [
    "Os resultados do algoritmo com otimizações iniciais (versão 1):"
   ]
  },
  {
   "cell_type": "code",
   "execution_count": 31,
   "metadata": {},
   "outputs": [
    {
     "data": {
      "text/html": [
       "<div>\n",
       "<style scoped>\n",
       "    .dataframe tbody tr th:only-of-type {\n",
       "        vertical-align: middle;\n",
       "    }\n",
       "\n",
       "    .dataframe tbody tr th {\n",
       "        vertical-align: top;\n",
       "    }\n",
       "\n",
       "    .dataframe thead th {\n",
       "        text-align: right;\n",
       "    }\n",
       "</style>\n",
       "<table border=\"1\" class=\"dataframe\">\n",
       "  <thead>\n",
       "    <tr style=\"text-align: right;\">\n",
       "      <th></th>\n",
       "      <th>tentativa_1</th>\n",
       "      <th>tentativa_2</th>\n",
       "      <th>tentativa_3</th>\n",
       "      <th>media</th>\n",
       "      <th>desvio</th>\n",
       "    </tr>\n",
       "  </thead>\n",
       "  <tbody>\n",
       "    <tr>\n",
       "      <th>3</th>\n",
       "      <td>33520</td>\n",
       "      <td>6626441</td>\n",
       "      <td>19829</td>\n",
       "      <td>2.226597e+06</td>\n",
       "      <td>3.111165e+06</td>\n",
       "    </tr>\n",
       "    <tr>\n",
       "      <th>5</th>\n",
       "      <td>4359336</td>\n",
       "      <td>205272</td>\n",
       "      <td>161724</td>\n",
       "      <td>1.575444e+06</td>\n",
       "      <td>1.968589e+06</td>\n",
       "    </tr>\n",
       "    <tr>\n",
       "      <th>7</th>\n",
       "      <td>4737705</td>\n",
       "      <td>1229867</td>\n",
       "      <td>1025762</td>\n",
       "      <td>2.331111e+06</td>\n",
       "      <td>1.703758e+06</td>\n",
       "    </tr>\n",
       "    <tr>\n",
       "      <th>9</th>\n",
       "      <td>56645016</td>\n",
       "      <td>42703385</td>\n",
       "      <td>34998095</td>\n",
       "      <td>4.478217e+07</td>\n",
       "      <td>8.958731e+06</td>\n",
       "    </tr>\n",
       "    <tr>\n",
       "      <th>11</th>\n",
       "      <td>4826241294</td>\n",
       "      <td>4279638167</td>\n",
       "      <td>3974137700</td>\n",
       "      <td>4.360006e+09</td>\n",
       "      <td>3.524811e+08</td>\n",
       "    </tr>\n",
       "    <tr>\n",
       "      <th>13</th>\n",
       "      <td>531570230276</td>\n",
       "      <td>411490964267</td>\n",
       "      <td>341475143877</td>\n",
       "      <td>4.281788e+11</td>\n",
       "      <td>7.849797e+10</td>\n",
       "    </tr>\n",
       "  </tbody>\n",
       "</table>\n",
       "</div>"
      ],
      "text/plain": [
       "     tentativa_1   tentativa_2   tentativa_3         media        desvio\n",
       "3          33520       6626441         19829  2.226597e+06  3.111165e+06\n",
       "5        4359336        205272        161724  1.575444e+06  1.968589e+06\n",
       "7        4737705       1229867       1025762  2.331111e+06  1.703758e+06\n",
       "9       56645016      42703385      34998095  4.478217e+07  8.958731e+06\n",
       "11    4826241294    4279638167    3974137700  4.360006e+09  3.524811e+08\n",
       "13  531570230276  411490964267  341475143877  4.281788e+11  7.849797e+10"
      ]
     },
     "execution_count": 31,
     "metadata": {},
     "output_type": "execute_result"
    }
   ],
   "source": [
    "v1_optimization_times_ns"
   ]
  },
  {
   "cell_type": "code",
   "execution_count": 32,
   "metadata": {},
   "outputs": [
    {
     "data": {
      "text/html": [
       "<div>\n",
       "<style scoped>\n",
       "    .dataframe tbody tr th:only-of-type {\n",
       "        vertical-align: middle;\n",
       "    }\n",
       "\n",
       "    .dataframe tbody tr th {\n",
       "        vertical-align: top;\n",
       "    }\n",
       "\n",
       "    .dataframe thead th {\n",
       "        text-align: right;\n",
       "    }\n",
       "</style>\n",
       "<table border=\"1\" class=\"dataframe\">\n",
       "  <thead>\n",
       "    <tr style=\"text-align: right;\">\n",
       "      <th></th>\n",
       "      <th>tentativa_1</th>\n",
       "      <th>tentativa_2</th>\n",
       "      <th>tentativa_3</th>\n",
       "      <th>media</th>\n",
       "      <th>desvio</th>\n",
       "    </tr>\n",
       "  </thead>\n",
       "  <tbody>\n",
       "    <tr>\n",
       "      <th>3</th>\n",
       "      <td>0</td>\n",
       "      <td>7</td>\n",
       "      <td>0</td>\n",
       "      <td>2.333333</td>\n",
       "      <td>3.299832</td>\n",
       "    </tr>\n",
       "    <tr>\n",
       "      <th>5</th>\n",
       "      <td>5</td>\n",
       "      <td>1</td>\n",
       "      <td>0</td>\n",
       "      <td>2.000000</td>\n",
       "      <td>2.160247</td>\n",
       "    </tr>\n",
       "    <tr>\n",
       "      <th>7</th>\n",
       "      <td>5</td>\n",
       "      <td>1</td>\n",
       "      <td>1</td>\n",
       "      <td>2.333333</td>\n",
       "      <td>1.885618</td>\n",
       "    </tr>\n",
       "    <tr>\n",
       "      <th>9</th>\n",
       "      <td>57</td>\n",
       "      <td>43</td>\n",
       "      <td>35</td>\n",
       "      <td>45.000000</td>\n",
       "      <td>9.092121</td>\n",
       "    </tr>\n",
       "    <tr>\n",
       "      <th>11</th>\n",
       "      <td>4827</td>\n",
       "      <td>4280</td>\n",
       "      <td>3974</td>\n",
       "      <td>4360.333333</td>\n",
       "      <td>352.838333</td>\n",
       "    </tr>\n",
       "    <tr>\n",
       "      <th>13</th>\n",
       "      <td>531570</td>\n",
       "      <td>411491</td>\n",
       "      <td>341476</td>\n",
       "      <td>428179.000000</td>\n",
       "      <td>78497.555023</td>\n",
       "    </tr>\n",
       "  </tbody>\n",
       "</table>\n",
       "</div>"
      ],
      "text/plain": [
       "    tentativa_1  tentativa_2  tentativa_3          media        desvio\n",
       "3             0            7            0       2.333333      3.299832\n",
       "5             5            1            0       2.000000      2.160247\n",
       "7             5            1            1       2.333333      1.885618\n",
       "9            57           43           35      45.000000      9.092121\n",
       "11         4827         4280         3974    4360.333333    352.838333\n",
       "13       531570       411491       341476  428179.000000  78497.555023"
      ]
     },
     "execution_count": 32,
     "metadata": {},
     "output_type": "execute_result"
    }
   ],
   "source": [
    "v1_optimization_times_ms"
   ]
  },
  {
   "cell_type": "markdown",
   "metadata": {},
   "source": [
    "Os resultados do algoritmo com otimizações extras (versão 2):"
   ]
  },
  {
   "cell_type": "code",
   "execution_count": 33,
   "metadata": {},
   "outputs": [
    {
     "data": {
      "text/html": [
       "<div>\n",
       "<style scoped>\n",
       "    .dataframe tbody tr th:only-of-type {\n",
       "        vertical-align: middle;\n",
       "    }\n",
       "\n",
       "    .dataframe tbody tr th {\n",
       "        vertical-align: top;\n",
       "    }\n",
       "\n",
       "    .dataframe thead th {\n",
       "        text-align: right;\n",
       "    }\n",
       "</style>\n",
       "<table border=\"1\" class=\"dataframe\">\n",
       "  <thead>\n",
       "    <tr style=\"text-align: right;\">\n",
       "      <th></th>\n",
       "      <th>tentativa_1</th>\n",
       "      <th>tentativa_2</th>\n",
       "      <th>tentativa_3</th>\n",
       "      <th>media</th>\n",
       "      <th>desvio</th>\n",
       "    </tr>\n",
       "  </thead>\n",
       "  <tbody>\n",
       "    <tr>\n",
       "      <th>3</th>\n",
       "      <td>166936</td>\n",
       "      <td>889952</td>\n",
       "      <td>31469</td>\n",
       "      <td>3.627857e+05</td>\n",
       "      <td>3.768431e+05</td>\n",
       "    </tr>\n",
       "    <tr>\n",
       "      <th>5</th>\n",
       "      <td>268892</td>\n",
       "      <td>341074</td>\n",
       "      <td>138447</td>\n",
       "      <td>2.494710e+05</td>\n",
       "      <td>8.385427e+04</td>\n",
       "    </tr>\n",
       "    <tr>\n",
       "      <th>7</th>\n",
       "      <td>7199562</td>\n",
       "      <td>2126376</td>\n",
       "      <td>20102736</td>\n",
       "      <td>9.809558e+06</td>\n",
       "      <td>7.567317e+06</td>\n",
       "    </tr>\n",
       "    <tr>\n",
       "      <th>9</th>\n",
       "      <td>41582610</td>\n",
       "      <td>50195566</td>\n",
       "      <td>29350616</td>\n",
       "      <td>4.037626e+07</td>\n",
       "      <td>8.552561e+06</td>\n",
       "    </tr>\n",
       "    <tr>\n",
       "      <th>11</th>\n",
       "      <td>4961380827</td>\n",
       "      <td>4338109429</td>\n",
       "      <td>3978193763</td>\n",
       "      <td>4.425895e+09</td>\n",
       "      <td>4.061559e+08</td>\n",
       "    </tr>\n",
       "    <tr>\n",
       "      <th>13</th>\n",
       "      <td>533706785792</td>\n",
       "      <td>410240425255</td>\n",
       "      <td>342476311062</td>\n",
       "      <td>4.288078e+11</td>\n",
       "      <td>7.916580e+10</td>\n",
       "    </tr>\n",
       "  </tbody>\n",
       "</table>\n",
       "</div>"
      ],
      "text/plain": [
       "     tentativa_1   tentativa_2   tentativa_3         media        desvio\n",
       "3         166936        889952         31469  3.627857e+05  3.768431e+05\n",
       "5         268892        341074        138447  2.494710e+05  8.385427e+04\n",
       "7        7199562       2126376      20102736  9.809558e+06  7.567317e+06\n",
       "9       41582610      50195566      29350616  4.037626e+07  8.552561e+06\n",
       "11    4961380827    4338109429    3978193763  4.425895e+09  4.061559e+08\n",
       "13  533706785792  410240425255  342476311062  4.288078e+11  7.916580e+10"
      ]
     },
     "execution_count": 33,
     "metadata": {},
     "output_type": "execute_result"
    }
   ],
   "source": [
    "v2_optimization_times_ns"
   ]
  },
  {
   "cell_type": "code",
   "execution_count": 34,
   "metadata": {},
   "outputs": [
    {
     "data": {
      "text/html": [
       "<div>\n",
       "<style scoped>\n",
       "    .dataframe tbody tr th:only-of-type {\n",
       "        vertical-align: middle;\n",
       "    }\n",
       "\n",
       "    .dataframe tbody tr th {\n",
       "        vertical-align: top;\n",
       "    }\n",
       "\n",
       "    .dataframe thead th {\n",
       "        text-align: right;\n",
       "    }\n",
       "</style>\n",
       "<table border=\"1\" class=\"dataframe\">\n",
       "  <thead>\n",
       "    <tr style=\"text-align: right;\">\n",
       "      <th></th>\n",
       "      <th>tentativa_1</th>\n",
       "      <th>tentativa_2</th>\n",
       "      <th>tentativa_3</th>\n",
       "      <th>media</th>\n",
       "      <th>desvio</th>\n",
       "    </tr>\n",
       "  </thead>\n",
       "  <tbody>\n",
       "    <tr>\n",
       "      <th>3</th>\n",
       "      <td>0</td>\n",
       "      <td>1</td>\n",
       "      <td>0</td>\n",
       "      <td>0.333333</td>\n",
       "      <td>0.471405</td>\n",
       "    </tr>\n",
       "    <tr>\n",
       "      <th>5</th>\n",
       "      <td>0</td>\n",
       "      <td>0</td>\n",
       "      <td>0</td>\n",
       "      <td>0.000000</td>\n",
       "      <td>0.000000</td>\n",
       "    </tr>\n",
       "    <tr>\n",
       "      <th>7</th>\n",
       "      <td>7</td>\n",
       "      <td>2</td>\n",
       "      <td>20</td>\n",
       "      <td>9.666667</td>\n",
       "      <td>7.586538</td>\n",
       "    </tr>\n",
       "    <tr>\n",
       "      <th>9</th>\n",
       "      <td>41</td>\n",
       "      <td>51</td>\n",
       "      <td>29</td>\n",
       "      <td>40.333333</td>\n",
       "      <td>8.993825</td>\n",
       "    </tr>\n",
       "    <tr>\n",
       "      <th>11</th>\n",
       "      <td>4962</td>\n",
       "      <td>4338</td>\n",
       "      <td>3978</td>\n",
       "      <td>4426.000000</td>\n",
       "      <td>406.507073</td>\n",
       "    </tr>\n",
       "    <tr>\n",
       "      <th>13</th>\n",
       "      <td>533707</td>\n",
       "      <td>410240</td>\n",
       "      <td>342476</td>\n",
       "      <td>428807.666667</td>\n",
       "      <td>79166.038696</td>\n",
       "    </tr>\n",
       "  </tbody>\n",
       "</table>\n",
       "</div>"
      ],
      "text/plain": [
       "    tentativa_1  tentativa_2  tentativa_3          media        desvio\n",
       "3             0            1            0       0.333333      0.471405\n",
       "5             0            0            0       0.000000      0.000000\n",
       "7             7            2           20       9.666667      7.586538\n",
       "9            41           51           29      40.333333      8.993825\n",
       "11         4962         4338         3978    4426.000000    406.507073\n",
       "13       533707       410240       342476  428807.666667  79166.038696"
      ]
     },
     "execution_count": 34,
     "metadata": {},
     "output_type": "execute_result"
    }
   ],
   "source": [
    "v2_optimization_times_ms"
   ]
  },
  {
   "cell_type": "code",
   "execution_count": 35,
   "metadata": {},
   "outputs": [],
   "source": [
    "import matplotlib.pyplot as plt"
   ]
  },
  {
   "cell_type": "code",
   "execution_count": 36,
   "metadata": {},
   "outputs": [],
   "source": [
    "def showResults(datasets, title, labels, log=True, show_std=True):\n",
    "    #imprime resultados em forma de gráfico\n",
    "\n",
    "    plt.figure(figsize=(10, 6))  # Ajuste o tamanho da figura conforme necessário\n",
    "\n",
    "    for i, data in enumerate(datasets):\n",
    "        index = data.index\n",
    "        mean = data['media']\n",
    "        std = data['desvio']\n",
    "        \n",
    "        # Plotar a média das linhas\n",
    "        plt.plot(mean.to_numpy(), marker='o', label=labels[i])  # Remova 'index.to_numpy()' aqui\n",
    "\n",
    "        # Preencher a área entre a média +/- desvio padrão\n",
    "        if show_std:\n",
    "            plt.fill_between(range(len(index)), mean - std, mean + std, alpha=0.2)  # Use 'range(len(index))' como eixo x\n",
    "\n",
    "    plt.xlabel('Ordem Matricial')\n",
    "    plt.ylabel('Tempo')\n",
    "    plt.title(title)\n",
    "    plt.legend()\n",
    "\n",
    "    if log:\n",
    "        plt.yscale('log')\n",
    "    \n",
    "    # Defina os rótulos do eixo x para usar os valores de index.to_numpy()\n",
    "    plt.xticks(range(len(index)), index.to_numpy())\n",
    "\n",
    "    plt.grid()\n",
    "    plt.show()"
   ]
  },
  {
   "cell_type": "markdown",
   "metadata": {},
   "source": [
    "Os resultados em escala logarítmica:"
   ]
  },
  {
   "cell_type": "code",
   "execution_count": 37,
   "metadata": {},
   "outputs": [
    {
     "data": {
      "image/png": "[encoded data removed]",
      "text/plain": [
       "<Figure size 720x432 with 1 Axes>"
      ]
     },
     "metadata": {
      "needs_background": "light"
     },
     "output_type": "display_data"
    }
   ],
   "source": [
    "showResults(\n",
    "    datasets=[baseline_times_ns, v1_optimization_times_ns, v2_optimization_times_ns],\n",
    "    title='Tempo de Execução Médio (em ns) - Algoritmos para Cálculo de Determinante',\n",
    "    labels=['Baseline', 'Otimização Simples', 'Otimizações Extras'],\n",
    "    log=True,\n",
    "    show_std=False,\n",
    ")"
   ]
  },
  {
   "cell_type": "markdown",
   "metadata": {},
   "source": [
    "Os resultados em escala normal:"
   ]
  },
  {
   "cell_type": "code",
   "execution_count": 38,
   "metadata": {},
   "outputs": [
    {
     "data": {
      "image/png": "[encoded data removed]",
      "text/plain": [
       "<Figure size 720x432 with 1 Axes>"
      ]
     },
     "metadata": {
      "needs_background": "light"
     },
     "output_type": "display_data"
    }
   ],
   "source": [
    "showResults(\n",
    "    datasets=[baseline_times_ns, v1_optimization_times_ns, v2_optimization_times_ns],\n",
    "    title='Tempo de Execução Médio (em ns) - Algoritmos para Cálculo de Determinante',\n",
    "    labels=['Baseline', 'Otimização Simples', 'Otimizações Extras'],\n",
    "    log=False,\n",
    "    show_std=False,\n",
    ")"
   ]
  }
 ],
 "metadata": {
  "kernelspec": {
   "display_name": "Python 3",
   "language": "python",
   "name": "python3"
  },
  "language_info": {
   "codemirror_mode": {
    "name": "ipython",
    "version": 3
   },
   "file_extension": ".py",
   "mimetype": "text/x-python",
   "name": "python",
   "nbconvert_exporter": "python",
   "pygments_lexer": "ipython3",
   "version": "3.10.12"
  },
  "orig_nbformat": 4
 },
 "nbformat": 4,
 "nbformat_minor": 2
}
