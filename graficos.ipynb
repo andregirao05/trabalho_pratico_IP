{
 "cells": [
  {
   "cell_type": "markdown",
   "metadata": {},
   "source": [
    "# Código para geração de gráficos\n",
    "\n",
    "O código abaixo cria os gráficos utilizados no trabalho com base nos arquivos de saída do algoritmo criado com Java."
   ]
  },
  {
   "cell_type": "markdown",
   "metadata": {},
   "source": [
    "## Importando dados\n",
    "\n",
    "Antes de mais nada, precisamos importar os dados de duração do algoritmo de determinantes aplicando:\n",
    "\n",
    "- Nenhuma otimização (baseline);\n",
    "\n",
    "- Otimizações iniciais (versão 1);\n",
    "\n",
    "- Otimizações extras (versão 2)."
   ]
  },
  {
   "cell_type": "code",
   "execution_count": 92,
   "metadata": {},
   "outputs": [],
   "source": [
    "import pandas as pd\n",
    "\n",
    "# Constantes que servem de rótulos dos dataframes seguintes\n",
    "HEADER = ['tentativa_1', 'tentativa_2', 'tentativa_3']\n",
    "INDEX = [3, 5, 7, 9, 11, 13]\n",
    "\n",
    "# Bases de dados extraídas dos arquivos de saída de cada algoritmo\n",
    "baseline_times = pd.read_csv('saida_baseline.txt', sep=' ', lineterminator='\\n', names=HEADER, index_col=False)\n",
    "baseline_times.index = INDEX\n",
    "\n",
    "v1_optimization_times = pd.read_csv('saida_otimizacao_v1.txt', sep=' ', lineterminator='\\n', names=HEADER, index_col=False)\n",
    "v1_optimization_times.index = INDEX\n",
    "\n",
    "v2_optimization_times = pd.read_csv('saida_otimizacao_v2.txt', sep=' ', lineterminator='\\n', names=HEADER, index_col=False)\n",
    "v2_optimization_times.index = INDEX"
   ]
  },
  {
   "cell_type": "markdown",
   "metadata": {},
   "source": [
    "## Visualizando os dados\n",
    "\n",
    "Vamos mostrar o comportamento temporal dos algoritmos usando os dados importados. Antes disso, vamos visualizar as tabelas com os valores de tempo.\n",
    "\n",
    "OBS: Os valores estão expressos em nanossegundos (para ordens < 9) e em milissegundos (para ordens >= 9).\n",
    "\n",
    "Nas tabelas, as linhas representam a ordem matricial e as colunas representam as três tentativas utilizadas para fazer medições."
   ]
  },
  {
   "cell_type": "markdown",
   "metadata": {},
   "source": [
    "Primeiro, vamos adicionar aos dados as *médias* de cada algoritmo:"
   ]
  },
  {
   "cell_type": "code",
   "execution_count": 93,
   "metadata": {},
   "outputs": [],
   "source": [
    "baseline_times['media'] = baseline_times.mean(axis=1)\n",
    "v1_optimization_times['media'] = v1_optimization_times.mean(axis=1)\n",
    "v2_optimization_times['media'] = v2_optimization_times.mean(axis=1)"
   ]
  },
  {
   "cell_type": "markdown",
   "metadata": {},
   "source": [
    "Vamos adicionar aos dados o *desvio padrão* de cada algoritmo:"
   ]
  },
  {
   "cell_type": "code",
   "execution_count": 94,
   "metadata": {},
   "outputs": [],
   "source": [
    "baseline_times['desvio'] = baseline_times.std(axis=1)\n",
    "v1_optimization_times['desvio'] = v1_optimization_times.std(axis=1)\n",
    "v2_optimization_times['desvio'] = v2_optimization_times.std(axis=1)"
   ]
  },
  {
   "cell_type": "markdown",
   "metadata": {},
   "source": [
    "Agora, podemos visualizar os dados em formato de tabela.\n",
    "\n",
    "Primeiro, o resultado da execução do algoritmo sem otimizações (baseline)."
   ]
  },
  {
   "cell_type": "code",
   "execution_count": 95,
   "metadata": {},
   "outputs": [
    {
     "data": {
      "text/html": [
       "<div>\n",
       "<style scoped>\n",
       "    .dataframe tbody tr th:only-of-type {\n",
       "        vertical-align: middle;\n",
       "    }\n",
       "\n",
       "    .dataframe tbody tr th {\n",
       "        vertical-align: top;\n",
       "    }\n",
       "\n",
       "    .dataframe thead th {\n",
       "        text-align: right;\n",
       "    }\n",
       "</style>\n",
       "<table border=\"1\" class=\"dataframe\">\n",
       "  <thead>\n",
       "    <tr style=\"text-align: right;\">\n",
       "      <th></th>\n",
       "      <th>tentativa_1</th>\n",
       "      <th>tentativa_2</th>\n",
       "      <th>tentativa_3</th>\n",
       "      <th>media</th>\n",
       "      <th>desvio</th>\n",
       "    </tr>\n",
       "  </thead>\n",
       "  <tbody>\n",
       "    <tr>\n",
       "      <th>3</th>\n",
       "      <td>82897</td>\n",
       "      <td>31708</td>\n",
       "      <td>41420</td>\n",
       "      <td>5.200833e+04</td>\n",
       "      <td>2.219854e+04</td>\n",
       "    </tr>\n",
       "    <tr>\n",
       "      <th>5</th>\n",
       "      <td>1125140</td>\n",
       "      <td>395046</td>\n",
       "      <td>1198966</td>\n",
       "      <td>9.063840e+05</td>\n",
       "      <td>3.628246e+05</td>\n",
       "    </tr>\n",
       "    <tr>\n",
       "      <th>7</th>\n",
       "      <td>12003803</td>\n",
       "      <td>3576999</td>\n",
       "      <td>3367071</td>\n",
       "      <td>6.315958e+06</td>\n",
       "      <td>4.022827e+06</td>\n",
       "    </tr>\n",
       "    <tr>\n",
       "      <th>9</th>\n",
       "      <td>206732640</td>\n",
       "      <td>192071470</td>\n",
       "      <td>136853351</td>\n",
       "      <td>1.785525e+08</td>\n",
       "      <td>3.008711e+07</td>\n",
       "    </tr>\n",
       "    <tr>\n",
       "      <th>11</th>\n",
       "      <td>12429921270</td>\n",
       "      <td>8530076217</td>\n",
       "      <td>7544198136</td>\n",
       "      <td>9.501399e+09</td>\n",
       "      <td>2.109530e+09</td>\n",
       "    </tr>\n",
       "    <tr>\n",
       "      <th>13</th>\n",
       "      <td>1079130850833</td>\n",
       "      <td>1085620222460</td>\n",
       "      <td>1079508303004</td>\n",
       "      <td>1.081420e+12</td>\n",
       "      <td>2.974147e+09</td>\n",
       "    </tr>\n",
       "  </tbody>\n",
       "</table>\n",
       "</div>"
      ],
      "text/plain": [
       "      tentativa_1    tentativa_2    tentativa_3         media        desvio\n",
       "3           82897          31708          41420  5.200833e+04  2.219854e+04\n",
       "5         1125140         395046        1198966  9.063840e+05  3.628246e+05\n",
       "7        12003803        3576999        3367071  6.315958e+06  4.022827e+06\n",
       "9       206732640      192071470      136853351  1.785525e+08  3.008711e+07\n",
       "11    12429921270     8530076217     7544198136  9.501399e+09  2.109530e+09\n",
       "13  1079130850833  1085620222460  1079508303004  1.081420e+12  2.974147e+09"
      ]
     },
     "execution_count": 95,
     "metadata": {},
     "output_type": "execute_result"
    }
   ],
   "source": [
    "baseline_times"
   ]
  },
  {
   "cell_type": "markdown",
   "metadata": {},
   "source": [
    "Os resultados do algoritmo com otimizações iniciais (versão 1):"
   ]
  },
  {
   "cell_type": "code",
   "execution_count": 96,
   "metadata": {},
   "outputs": [
    {
     "data": {
      "text/html": [
       "<div>\n",
       "<style scoped>\n",
       "    .dataframe tbody tr th:only-of-type {\n",
       "        vertical-align: middle;\n",
       "    }\n",
       "\n",
       "    .dataframe tbody tr th {\n",
       "        vertical-align: top;\n",
       "    }\n",
       "\n",
       "    .dataframe thead th {\n",
       "        text-align: right;\n",
       "    }\n",
       "</style>\n",
       "<table border=\"1\" class=\"dataframe\">\n",
       "  <thead>\n",
       "    <tr style=\"text-align: right;\">\n",
       "      <th></th>\n",
       "      <th>tentativa_1</th>\n",
       "      <th>tentativa_2</th>\n",
       "      <th>tentativa_3</th>\n",
       "      <th>media</th>\n",
       "      <th>desvio</th>\n",
       "    </tr>\n",
       "  </thead>\n",
       "  <tbody>\n",
       "    <tr>\n",
       "      <th>3</th>\n",
       "      <td>5306013</td>\n",
       "      <td>23264</td>\n",
       "      <td>133367</td>\n",
       "      <td>1.820881e+06</td>\n",
       "      <td>2.464770e+06</td>\n",
       "    </tr>\n",
       "    <tr>\n",
       "      <th>5</th>\n",
       "      <td>1118708</td>\n",
       "      <td>99448</td>\n",
       "      <td>392265</td>\n",
       "      <td>5.368070e+05</td>\n",
       "      <td>4.284795e+05</td>\n",
       "    </tr>\n",
       "    <tr>\n",
       "      <th>7</th>\n",
       "      <td>2160586</td>\n",
       "      <td>2216510</td>\n",
       "      <td>3479014</td>\n",
       "      <td>2.618703e+06</td>\n",
       "      <td>6.087598e+05</td>\n",
       "    </tr>\n",
       "    <tr>\n",
       "      <th>9</th>\n",
       "      <td>72189473</td>\n",
       "      <td>44340848</td>\n",
       "      <td>80956384</td>\n",
       "      <td>6.582890e+07</td>\n",
       "      <td>1.561019e+07</td>\n",
       "    </tr>\n",
       "    <tr>\n",
       "      <th>11</th>\n",
       "      <td>2329819636</td>\n",
       "      <td>2721029494</td>\n",
       "      <td>3368475895</td>\n",
       "      <td>2.806442e+09</td>\n",
       "      <td>4.283092e+08</td>\n",
       "    </tr>\n",
       "    <tr>\n",
       "      <th>13</th>\n",
       "      <td>438767739538</td>\n",
       "      <td>422120993935</td>\n",
       "      <td>280837917442</td>\n",
       "      <td>3.805756e+11</td>\n",
       "      <td>7.085184e+10</td>\n",
       "    </tr>\n",
       "  </tbody>\n",
       "</table>\n",
       "</div>"
      ],
      "text/plain": [
       "     tentativa_1   tentativa_2   tentativa_3         media        desvio\n",
       "3        5306013         23264        133367  1.820881e+06  2.464770e+06\n",
       "5        1118708         99448        392265  5.368070e+05  4.284795e+05\n",
       "7        2160586       2216510       3479014  2.618703e+06  6.087598e+05\n",
       "9       72189473      44340848      80956384  6.582890e+07  1.561019e+07\n",
       "11    2329819636    2721029494    3368475895  2.806442e+09  4.283092e+08\n",
       "13  438767739538  422120993935  280837917442  3.805756e+11  7.085184e+10"
      ]
     },
     "execution_count": 96,
     "metadata": {},
     "output_type": "execute_result"
    }
   ],
   "source": [
    "v1_optimization_times"
   ]
  },
  {
   "cell_type": "markdown",
   "metadata": {},
   "source": [
    "Os resultados do algoritmo com otimizações extras (versão 2):"
   ]
  },
  {
   "cell_type": "code",
   "execution_count": 97,
   "metadata": {},
   "outputs": [
    {
     "data": {
      "text/html": [
       "<div>\n",
       "<style scoped>\n",
       "    .dataframe tbody tr th:only-of-type {\n",
       "        vertical-align: middle;\n",
       "    }\n",
       "\n",
       "    .dataframe tbody tr th {\n",
       "        vertical-align: top;\n",
       "    }\n",
       "\n",
       "    .dataframe thead th {\n",
       "        text-align: right;\n",
       "    }\n",
       "</style>\n",
       "<table border=\"1\" class=\"dataframe\">\n",
       "  <thead>\n",
       "    <tr style=\"text-align: right;\">\n",
       "      <th></th>\n",
       "      <th>tentativa_1</th>\n",
       "      <th>tentativa_2</th>\n",
       "      <th>tentativa_3</th>\n",
       "      <th>media</th>\n",
       "      <th>desvio</th>\n",
       "    </tr>\n",
       "  </thead>\n",
       "  <tbody>\n",
       "    <tr>\n",
       "      <th>3</th>\n",
       "      <td>74672</td>\n",
       "      <td>11018</td>\n",
       "      <td>38388</td>\n",
       "      <td>4.135933e+04</td>\n",
       "      <td>2.607143e+04</td>\n",
       "    </tr>\n",
       "    <tr>\n",
       "      <th>5</th>\n",
       "      <td>302235</td>\n",
       "      <td>76408</td>\n",
       "      <td>929878</td>\n",
       "      <td>4.361737e+05</td>\n",
       "      <td>3.610701e+05</td>\n",
       "    </tr>\n",
       "    <tr>\n",
       "      <th>7</th>\n",
       "      <td>1783198</td>\n",
       "      <td>3299060</td>\n",
       "      <td>1728414</td>\n",
       "      <td>2.270224e+06</td>\n",
       "      <td>7.278406e+05</td>\n",
       "    </tr>\n",
       "    <tr>\n",
       "      <th>9</th>\n",
       "      <td>90807916</td>\n",
       "      <td>49588223</td>\n",
       "      <td>74940676</td>\n",
       "      <td>7.177894e+07</td>\n",
       "      <td>1.697573e+07</td>\n",
       "    </tr>\n",
       "    <tr>\n",
       "      <th>11</th>\n",
       "      <td>2395553368</td>\n",
       "      <td>2812744957</td>\n",
       "      <td>3764947858</td>\n",
       "      <td>2.991082e+09</td>\n",
       "      <td>5.730988e+08</td>\n",
       "    </tr>\n",
       "    <tr>\n",
       "      <th>13</th>\n",
       "      <td>435096419868</td>\n",
       "      <td>418332465201</td>\n",
       "      <td>275669937254</td>\n",
       "      <td>3.763663e+11</td>\n",
       "      <td>7.153121e+10</td>\n",
       "    </tr>\n",
       "  </tbody>\n",
       "</table>\n",
       "</div>"
      ],
      "text/plain": [
       "     tentativa_1   tentativa_2   tentativa_3         media        desvio\n",
       "3          74672         11018         38388  4.135933e+04  2.607143e+04\n",
       "5         302235         76408        929878  4.361737e+05  3.610701e+05\n",
       "7        1783198       3299060       1728414  2.270224e+06  7.278406e+05\n",
       "9       90807916      49588223      74940676  7.177894e+07  1.697573e+07\n",
       "11    2395553368    2812744957    3764947858  2.991082e+09  5.730988e+08\n",
       "13  435096419868  418332465201  275669937254  3.763663e+11  7.153121e+10"
      ]
     },
     "execution_count": 97,
     "metadata": {},
     "output_type": "execute_result"
    }
   ],
   "source": [
    "v2_optimization_times"
   ]
  },
  {
   "cell_type": "code",
   "execution_count": 98,
   "metadata": {},
   "outputs": [],
   "source": [
    "import matplotlib.pyplot as plt"
   ]
  },
  {
   "cell_type": "code",
   "execution_count": 99,
   "metadata": {},
   "outputs": [],
   "source": [
    "def showResults(datasets, labels, log=True, show_std=True, show_in_ms=False):\n",
    "    plt.figure(figsize=(10, 6))  # Ajuste o tamanho da figura conforme necessário\n",
    "\n",
    "    for i, data in enumerate(datasets):\n",
    "        index = data.index\n",
    "        mean = data['media']\n",
    "        std = data['desvio']\n",
    "\n",
    "        if show_in_ms:\n",
    "            mean = mean / (1000 * 1000)\n",
    "            std = std / (1000 * 1000)\n",
    "\n",
    "        # Plotar a média das linhas\n",
    "        plt.plot(mean.to_numpy(), marker='o', label=labels[i])  # Remova 'index.to_numpy()' aqui\n",
    "\n",
    "        # Preencher a área entre a média +/- desvio padrão\n",
    "        if show_std:\n",
    "            plt.fill_between(range(len(index)), mean - std, mean + std, alpha=0.2)  # Use 'range(len(index))' como eixo x\n",
    "\n",
    "    plt.xlabel('Ordem Matricial')\n",
    "    plt.ylabel('Tempo ({})'.format(\"ms\" if show_in_ms else \"ns\"))\n",
    "    plt.title('Tempo de Execução Média - Algoritmos para Cálculo de Determinante')\n",
    "    plt.legend()\n",
    "\n",
    "    if log:\n",
    "        plt.yscale('log')\n",
    "    \n",
    "    # Defina os rótulos do eixo x para usar os valores de index.to_numpy()\n",
    "    plt.xticks(range(len(index)), index.to_numpy())\n",
    "\n",
    "    plt.grid()\n",
    "    plt.show()"
   ]
  },
  {
   "cell_type": "code",
   "execution_count": 100,
   "metadata": {},
   "outputs": [
    {
     "data": {
      "image/png": "[encoded data removed]",
      "text/plain": [
       "<Figure size 720x432 with 1 Axes>"
      ]
     },
     "metadata": {
      "needs_background": "light"
     },
     "output_type": "display_data"
    }
   ],
   "source": [
    "showResults(\n",
    "    datasets=[baseline_times, v1_optimization_times, v2_optimization_times],\n",
    "    labels=['Baseline', 'Otimização Simples', 'Otimizações Extras'],\n",
    "    log=True,\n",
    "    show_std=False,\n",
    "    show_in_ms=True\n",
    ")"
   ]
  },
  {
   "cell_type": "code",
   "execution_count": 101,
   "metadata": {},
   "outputs": [
    {
     "data": {
      "image/png": "[encoded data removed]",
      "text/plain": [
       "<Figure size 720x432 with 1 Axes>"
      ]
     },
     "metadata": {
      "needs_background": "light"
     },
     "output_type": "display_data"
    }
   ],
   "source": [
    "showResults(\n",
    "    datasets=[baseline_times, v1_optimization_times, v2_optimization_times],\n",
    "    labels=['Baseline', 'Otimização Simples', 'Otimizações Extras'],\n",
    "    log=False,\n",
    "    show_std=True,\n",
    "    show_in_ms=False\n",
    ")"
   ]
  }
 ],
 "metadata": {
  "kernelspec": {
   "display_name": "Python 3",
   "language": "python",
   "name": "python3"
  },
  "language_info": {
   "codemirror_mode": {
    "name": "ipython",
    "version": 3
   },
   "file_extension": ".py",
   "mimetype": "text/x-python",
   "name": "python",
   "nbconvert_exporter": "python",
   "pygments_lexer": "ipython3",
   "version": "3.10.12"
  },
  "orig_nbformat": 4
 },
 "nbformat": 4,
 "nbformat_minor": 2
}
