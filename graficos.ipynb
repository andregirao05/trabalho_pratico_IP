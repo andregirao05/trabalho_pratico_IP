{
 "cells": [
  {
   "cell_type": "markdown",
   "metadata": {},
   "source": [
    "# Código para geração de gráficos\n",
    "\n",
    "O código abaixo cria os gráficos utilizados no trabalho com base nos arquivos de saída do algoritmo criado com Java."
   ]
  },
  {
   "cell_type": "markdown",
   "metadata": {},
   "source": [
    "## Importando dados\n",
    "\n",
    "Antes de mais nada, precisamos importar os dados de duração do algoritmo de determinantes aplicando:\n",
    "\n",
    "- Nenhuma otimização (baseline);\n",
    "\n",
    "- Otimizações iniciais (versão 1);\n",
    "\n",
    "- Otimizações extras (versão 2)."
   ]
  },
  {
   "cell_type": "code",
   "execution_count": 35,
   "metadata": {},
   "outputs": [],
   "source": [
    "import pandas as pd\n",
    "\n",
    "# Constantes que servem de rótulos dos dataframes seguintes\n",
    "HEADER = ['tentativa_1', 'tentativa_2', 'tentativa_3']\n",
    "INDEX = [3, 5, 7, 9, 11, 13]\n",
    "\n",
    "\n",
    "# Bases de dados extraídas dos arquivos de saída de cada algoritmo\n",
    "\n",
    "# Arquivos de saída do algoritmo baseline (em ns e em ms)\n",
    "baseline_times_ns = pd.read_csv('baseline_ns.txt', sep=' ', lineterminator='\\n', names=HEADER, index_col=False)\n",
    "baseline_times_ns.index = INDEX\n",
    "\n",
    "baseline_times_ms = pd.read_csv('baseline_ms.txt', sep=' ', lineterminator='\\n', names=HEADER, index_col=False)\n",
    "baseline_times_ms.index = INDEX\n",
    "\n",
    "\n",
    "# Arquivos de saída do algoritmo otimização simples (em ns e em ms)\n",
    "v1_optimization_times_ns = pd.read_csv('otimizacao_v1_ns.txt', sep=' ', lineterminator='\\n', names=HEADER, index_col=False)\n",
    "v1_optimization_times_ns.index = INDEX\n",
    "\n",
    "v1_optimization_times_ms = pd.read_csv('otimizacao_v1_ms.txt', sep=' ', lineterminator='\\n', names=HEADER, index_col=False)\n",
    "v1_optimization_times_ms.index = INDEX\n",
    "\n",
    "\n",
    "# Arquivos de saída do algoritmo otimização extra (em ns e em ms)\n",
    "v2_optimization_times_ns = pd.read_csv('otimizacao_v2_ns.txt', sep=' ', lineterminator='\\n', names=HEADER, index_col=False)\n",
    "v2_optimization_times_ns.index = INDEX\n",
    "\n",
    "v2_optimization_times_ms = pd.read_csv('otimizacao_v2_ms.txt', sep=' ', lineterminator='\\n', names=HEADER, index_col=False)\n",
    "v2_optimization_times_ms.index = INDEX"
   ]
  },
  {
   "cell_type": "markdown",
   "metadata": {},
   "source": [
    "## Visualizando os dados\n",
    "\n",
    "Vamos mostrar o comportamento temporal dos algoritmos usando os dados importados. Antes disso, vamos visualizar as tabelas com os valores de tempo.\n",
    "\n",
    "Nas tabelas, as linhas representam a ordem matricial e as colunas representam as três tentativas utilizadas para fazer medições."
   ]
  },
  {
   "cell_type": "markdown",
   "metadata": {},
   "source": [
    "Primeiro, vamos adicionar aos dados as *médias* de cada algoritmo:"
   ]
  },
  {
   "cell_type": "code",
   "execution_count": 36,
   "metadata": {},
   "outputs": [],
   "source": [
    "baseline_times_ns['media'] = baseline_times_ns.mean(axis=1)\n",
    "baseline_times_ms['media'] = baseline_times_ms.mean(axis=1)\n",
    "\n",
    "v1_optimization_times_ns['media'] = v1_optimization_times_ns.mean(axis=1)\n",
    "v1_optimization_times_ms['media'] = v1_optimization_times_ms.mean(axis=1)\n",
    "\n",
    "v2_optimization_times_ns['media'] = v2_optimization_times_ns.mean(axis=1)\n",
    "v2_optimization_times_ms['media'] = v2_optimization_times_ms.mean(axis=1)"
   ]
  },
  {
   "cell_type": "markdown",
   "metadata": {},
   "source": [
    "Vamos adicionar aos dados o *desvio padrão* de cada algoritmo:"
   ]
  },
  {
   "cell_type": "code",
   "execution_count": 37,
   "metadata": {},
   "outputs": [],
   "source": [
    "baseline_times_ns['desvio'] = baseline_times_ns.std(axis=1)\n",
    "baseline_times_ms['desvio'] = baseline_times_ms.std(axis=1)\n",
    "\n",
    "v1_optimization_times_ns['desvio'] = v1_optimization_times_ns.std(axis=1)\n",
    "v1_optimization_times_ms['desvio'] = v1_optimization_times_ms.std(axis=1)\n",
    "\n",
    "v2_optimization_times_ns['desvio'] = v2_optimization_times_ns.std(axis=1)\n",
    "v2_optimization_times_ms['desvio'] = v2_optimization_times_ms.std(axis=1)"
   ]
  },
  {
   "cell_type": "markdown",
   "metadata": {},
   "source": [
    "Agora, podemos visualizar os dados em formato de tabela.\n",
    "\n",
    "Primeiro, o resultado da execução do algoritmo sem otimizações (baseline)."
   ]
  },
  {
   "cell_type": "code",
   "execution_count": 38,
   "metadata": {},
   "outputs": [
    {
     "data": {
      "text/html": [
       "<div>\n",
       "<style scoped>\n",
       "    .dataframe tbody tr th:only-of-type {\n",
       "        vertical-align: middle;\n",
       "    }\n",
       "\n",
       "    .dataframe tbody tr th {\n",
       "        vertical-align: top;\n",
       "    }\n",
       "\n",
       "    .dataframe thead th {\n",
       "        text-align: right;\n",
       "    }\n",
       "</style>\n",
       "<table border=\"1\" class=\"dataframe\">\n",
       "  <thead>\n",
       "    <tr style=\"text-align: right;\">\n",
       "      <th></th>\n",
       "      <th>tentativa_1</th>\n",
       "      <th>tentativa_2</th>\n",
       "      <th>tentativa_3</th>\n",
       "      <th>media</th>\n",
       "      <th>desvio</th>\n",
       "    </tr>\n",
       "  </thead>\n",
       "  <tbody>\n",
       "    <tr>\n",
       "      <th>3</th>\n",
       "      <td>33100</td>\n",
       "      <td>14600</td>\n",
       "      <td>15500</td>\n",
       "      <td>2.106667e+04</td>\n",
       "      <td>8.516781e+03</td>\n",
       "    </tr>\n",
       "    <tr>\n",
       "      <th>5</th>\n",
       "      <td>221500</td>\n",
       "      <td>190300</td>\n",
       "      <td>95600</td>\n",
       "      <td>1.691333e+05</td>\n",
       "      <td>5.353331e+04</td>\n",
       "    </tr>\n",
       "    <tr>\n",
       "      <th>7</th>\n",
       "      <td>1872200</td>\n",
       "      <td>3107100</td>\n",
       "      <td>1084500</td>\n",
       "      <td>2.021267e+06</td>\n",
       "      <td>8.324235e+05</td>\n",
       "    </tr>\n",
       "    <tr>\n",
       "      <th>9</th>\n",
       "      <td>67079400</td>\n",
       "      <td>62040800</td>\n",
       "      <td>53984000</td>\n",
       "      <td>6.103473e+07</td>\n",
       "      <td>5.393298e+06</td>\n",
       "    </tr>\n",
       "    <tr>\n",
       "      <th>11</th>\n",
       "      <td>5038421300</td>\n",
       "      <td>4802688800</td>\n",
       "      <td>4801066500</td>\n",
       "      <td>4.880726e+09</td>\n",
       "      <td>1.115097e+08</td>\n",
       "    </tr>\n",
       "    <tr>\n",
       "      <th>13</th>\n",
       "      <td>749346377800</td>\n",
       "      <td>753151472400</td>\n",
       "      <td>748576218800</td>\n",
       "      <td>7.503580e+11</td>\n",
       "      <td>2.000134e+09</td>\n",
       "    </tr>\n",
       "  </tbody>\n",
       "</table>\n",
       "</div>"
      ],
      "text/plain": [
       "     tentativa_1   tentativa_2   tentativa_3         media        desvio\n",
       "3          33100         14600         15500  2.106667e+04  8.516781e+03\n",
       "5         221500        190300         95600  1.691333e+05  5.353331e+04\n",
       "7        1872200       3107100       1084500  2.021267e+06  8.324235e+05\n",
       "9       67079400      62040800      53984000  6.103473e+07  5.393298e+06\n",
       "11    5038421300    4802688800    4801066500  4.880726e+09  1.115097e+08\n",
       "13  749346377800  753151472400  748576218800  7.503580e+11  2.000134e+09"
      ]
     },
     "execution_count": 38,
     "metadata": {},
     "output_type": "execute_result"
    }
   ],
   "source": [
    "baseline_times_ns"
   ]
  },
  {
   "cell_type": "code",
   "execution_count": 39,
   "metadata": {},
   "outputs": [
    {
     "data": {
      "text/html": [
       "<div>\n",
       "<style scoped>\n",
       "    .dataframe tbody tr th:only-of-type {\n",
       "        vertical-align: middle;\n",
       "    }\n",
       "\n",
       "    .dataframe tbody tr th {\n",
       "        vertical-align: top;\n",
       "    }\n",
       "\n",
       "    .dataframe thead th {\n",
       "        text-align: right;\n",
       "    }\n",
       "</style>\n",
       "<table border=\"1\" class=\"dataframe\">\n",
       "  <thead>\n",
       "    <tr style=\"text-align: right;\">\n",
       "      <th></th>\n",
       "      <th>tentativa_1</th>\n",
       "      <th>tentativa_2</th>\n",
       "      <th>tentativa_3</th>\n",
       "      <th>media</th>\n",
       "      <th>desvio</th>\n",
       "    </tr>\n",
       "  </thead>\n",
       "  <tbody>\n",
       "    <tr>\n",
       "      <th>3</th>\n",
       "      <td>0</td>\n",
       "      <td>0</td>\n",
       "      <td>0</td>\n",
       "      <td>0.000000</td>\n",
       "      <td>0.000000</td>\n",
       "    </tr>\n",
       "    <tr>\n",
       "      <th>5</th>\n",
       "      <td>0</td>\n",
       "      <td>0</td>\n",
       "      <td>0</td>\n",
       "      <td>0.000000</td>\n",
       "      <td>0.000000</td>\n",
       "    </tr>\n",
       "    <tr>\n",
       "      <th>7</th>\n",
       "      <td>0</td>\n",
       "      <td>15</td>\n",
       "      <td>0</td>\n",
       "      <td>5.000000</td>\n",
       "      <td>7.071068</td>\n",
       "    </tr>\n",
       "    <tr>\n",
       "      <th>9</th>\n",
       "      <td>62</td>\n",
       "      <td>63</td>\n",
       "      <td>63</td>\n",
       "      <td>62.666667</td>\n",
       "      <td>0.471405</td>\n",
       "    </tr>\n",
       "    <tr>\n",
       "      <th>11</th>\n",
       "      <td>5039</td>\n",
       "      <td>4804</td>\n",
       "      <td>4794</td>\n",
       "      <td>4879.000000</td>\n",
       "      <td>113.210718</td>\n",
       "    </tr>\n",
       "    <tr>\n",
       "      <th>13</th>\n",
       "      <td>749352</td>\n",
       "      <td>753147</td>\n",
       "      <td>748580</td>\n",
       "      <td>750359.666667</td>\n",
       "      <td>1995.982020</td>\n",
       "    </tr>\n",
       "  </tbody>\n",
       "</table>\n",
       "</div>"
      ],
      "text/plain": [
       "    tentativa_1  tentativa_2  tentativa_3          media       desvio\n",
       "3             0            0            0       0.000000     0.000000\n",
       "5             0            0            0       0.000000     0.000000\n",
       "7             0           15            0       5.000000     7.071068\n",
       "9            62           63           63      62.666667     0.471405\n",
       "11         5039         4804         4794    4879.000000   113.210718\n",
       "13       749352       753147       748580  750359.666667  1995.982020"
      ]
     },
     "execution_count": 39,
     "metadata": {},
     "output_type": "execute_result"
    }
   ],
   "source": [
    "baseline_times_ms"
   ]
  },
  {
   "cell_type": "markdown",
   "metadata": {},
   "source": [
    "Os resultados do algoritmo com otimizações iniciais (versão 1):"
   ]
  },
  {
   "cell_type": "code",
   "execution_count": 40,
   "metadata": {},
   "outputs": [
    {
     "data": {
      "text/html": [
       "<div>\n",
       "<style scoped>\n",
       "    .dataframe tbody tr th:only-of-type {\n",
       "        vertical-align: middle;\n",
       "    }\n",
       "\n",
       "    .dataframe tbody tr th {\n",
       "        vertical-align: top;\n",
       "    }\n",
       "\n",
       "    .dataframe thead th {\n",
       "        text-align: right;\n",
       "    }\n",
       "</style>\n",
       "<table border=\"1\" class=\"dataframe\">\n",
       "  <thead>\n",
       "    <tr style=\"text-align: right;\">\n",
       "      <th></th>\n",
       "      <th>tentativa_1</th>\n",
       "      <th>tentativa_2</th>\n",
       "      <th>tentativa_3</th>\n",
       "      <th>media</th>\n",
       "      <th>desvio</th>\n",
       "    </tr>\n",
       "  </thead>\n",
       "  <tbody>\n",
       "    <tr>\n",
       "      <th>3</th>\n",
       "      <td>30200</td>\n",
       "      <td>27400</td>\n",
       "      <td>21400</td>\n",
       "      <td>2.633333e+04</td>\n",
       "      <td>3.670907e+03</td>\n",
       "    </tr>\n",
       "    <tr>\n",
       "      <th>5</th>\n",
       "      <td>162500</td>\n",
       "      <td>286000</td>\n",
       "      <td>136200</td>\n",
       "      <td>1.949000e+05</td>\n",
       "      <td>6.530610e+04</td>\n",
       "    </tr>\n",
       "    <tr>\n",
       "      <th>7</th>\n",
       "      <td>4716600</td>\n",
       "      <td>558500</td>\n",
       "      <td>1076900</td>\n",
       "      <td>2.117333e+06</td>\n",
       "      <td>1.850104e+06</td>\n",
       "    </tr>\n",
       "    <tr>\n",
       "      <th>9</th>\n",
       "      <td>35989900</td>\n",
       "      <td>12077300</td>\n",
       "      <td>18251700</td>\n",
       "      <td>2.210630e+07</td>\n",
       "      <td>1.013563e+07</td>\n",
       "    </tr>\n",
       "    <tr>\n",
       "      <th>11</th>\n",
       "      <td>4234329400</td>\n",
       "      <td>3387717800</td>\n",
       "      <td>3330455000</td>\n",
       "      <td>3.650834e+09</td>\n",
       "      <td>4.132553e+08</td>\n",
       "    </tr>\n",
       "    <tr>\n",
       "      <th>13</th>\n",
       "      <td>525054918000</td>\n",
       "      <td>386836901700</td>\n",
       "      <td>388683337000</td>\n",
       "      <td>4.335251e+11</td>\n",
       "      <td>6.472578e+10</td>\n",
       "    </tr>\n",
       "  </tbody>\n",
       "</table>\n",
       "</div>"
      ],
      "text/plain": [
       "     tentativa_1   tentativa_2   tentativa_3         media        desvio\n",
       "3          30200         27400         21400  2.633333e+04  3.670907e+03\n",
       "5         162500        286000        136200  1.949000e+05  6.530610e+04\n",
       "7        4716600        558500       1076900  2.117333e+06  1.850104e+06\n",
       "9       35989900      12077300      18251700  2.210630e+07  1.013563e+07\n",
       "11    4234329400    3387717800    3330455000  3.650834e+09  4.132553e+08\n",
       "13  525054918000  386836901700  388683337000  4.335251e+11  6.472578e+10"
      ]
     },
     "execution_count": 40,
     "metadata": {},
     "output_type": "execute_result"
    }
   ],
   "source": [
    "v1_optimization_times_ns"
   ]
  },
  {
   "cell_type": "code",
   "execution_count": 41,
   "metadata": {},
   "outputs": [
    {
     "data": {
      "text/html": [
       "<div>\n",
       "<style scoped>\n",
       "    .dataframe tbody tr th:only-of-type {\n",
       "        vertical-align: middle;\n",
       "    }\n",
       "\n",
       "    .dataframe tbody tr th {\n",
       "        vertical-align: top;\n",
       "    }\n",
       "\n",
       "    .dataframe thead th {\n",
       "        text-align: right;\n",
       "    }\n",
       "</style>\n",
       "<table border=\"1\" class=\"dataframe\">\n",
       "  <thead>\n",
       "    <tr style=\"text-align: right;\">\n",
       "      <th></th>\n",
       "      <th>tentativa_1</th>\n",
       "      <th>tentativa_2</th>\n",
       "      <th>tentativa_3</th>\n",
       "      <th>media</th>\n",
       "      <th>desvio</th>\n",
       "    </tr>\n",
       "  </thead>\n",
       "  <tbody>\n",
       "    <tr>\n",
       "      <th>3</th>\n",
       "      <td>0</td>\n",
       "      <td>0</td>\n",
       "      <td>0</td>\n",
       "      <td>0.000000</td>\n",
       "      <td>0.000000</td>\n",
       "    </tr>\n",
       "    <tr>\n",
       "      <th>5</th>\n",
       "      <td>0</td>\n",
       "      <td>0</td>\n",
       "      <td>0</td>\n",
       "      <td>0.000000</td>\n",
       "      <td>0.000000</td>\n",
       "    </tr>\n",
       "    <tr>\n",
       "      <th>7</th>\n",
       "      <td>0</td>\n",
       "      <td>0</td>\n",
       "      <td>0</td>\n",
       "      <td>0.000000</td>\n",
       "      <td>0.000000</td>\n",
       "    </tr>\n",
       "    <tr>\n",
       "      <th>9</th>\n",
       "      <td>31</td>\n",
       "      <td>15</td>\n",
       "      <td>15</td>\n",
       "      <td>20.333333</td>\n",
       "      <td>7.542472</td>\n",
       "    </tr>\n",
       "    <tr>\n",
       "      <th>11</th>\n",
       "      <td>4239</td>\n",
       "      <td>3390</td>\n",
       "      <td>3329</td>\n",
       "      <td>3652.666667</td>\n",
       "      <td>415.347512</td>\n",
       "    </tr>\n",
       "    <tr>\n",
       "      <th>13</th>\n",
       "      <td>525052</td>\n",
       "      <td>386835</td>\n",
       "      <td>388684</td>\n",
       "      <td>433523.666667</td>\n",
       "      <td>64724.707041</td>\n",
       "    </tr>\n",
       "  </tbody>\n",
       "</table>\n",
       "</div>"
      ],
      "text/plain": [
       "    tentativa_1  tentativa_2  tentativa_3          media        desvio\n",
       "3             0            0            0       0.000000      0.000000\n",
       "5             0            0            0       0.000000      0.000000\n",
       "7             0            0            0       0.000000      0.000000\n",
       "9            31           15           15      20.333333      7.542472\n",
       "11         4239         3390         3329    3652.666667    415.347512\n",
       "13       525052       386835       388684  433523.666667  64724.707041"
      ]
     },
     "execution_count": 41,
     "metadata": {},
     "output_type": "execute_result"
    }
   ],
   "source": [
    "v1_optimization_times_ms"
   ]
  },
  {
   "cell_type": "markdown",
   "metadata": {},
   "source": [
    "Os resultados do algoritmo com otimizações extras (versão 2):"
   ]
  },
  {
   "cell_type": "code",
   "execution_count": 42,
   "metadata": {},
   "outputs": [
    {
     "data": {
      "text/html": [
       "<div>\n",
       "<style scoped>\n",
       "    .dataframe tbody tr th:only-of-type {\n",
       "        vertical-align: middle;\n",
       "    }\n",
       "\n",
       "    .dataframe tbody tr th {\n",
       "        vertical-align: top;\n",
       "    }\n",
       "\n",
       "    .dataframe thead th {\n",
       "        text-align: right;\n",
       "    }\n",
       "</style>\n",
       "<table border=\"1\" class=\"dataframe\">\n",
       "  <thead>\n",
       "    <tr style=\"text-align: right;\">\n",
       "      <th></th>\n",
       "      <th>tentativa_1</th>\n",
       "      <th>tentativa_2</th>\n",
       "      <th>tentativa_3</th>\n",
       "      <th>media</th>\n",
       "      <th>desvio</th>\n",
       "    </tr>\n",
       "  </thead>\n",
       "  <tbody>\n",
       "    <tr>\n",
       "      <th>3</th>\n",
       "      <td>54200</td>\n",
       "      <td>79800</td>\n",
       "      <td>41300</td>\n",
       "      <td>5.843333e+04</td>\n",
       "      <td>1.600007e+04</td>\n",
       "    </tr>\n",
       "    <tr>\n",
       "      <th>5</th>\n",
       "      <td>704100</td>\n",
       "      <td>339400</td>\n",
       "      <td>277900</td>\n",
       "      <td>4.404667e+05</td>\n",
       "      <td>1.881001e+05</td>\n",
       "    </tr>\n",
       "    <tr>\n",
       "      <th>7</th>\n",
       "      <td>7127600</td>\n",
       "      <td>2925000</td>\n",
       "      <td>1531000</td>\n",
       "      <td>3.861200e+06</td>\n",
       "      <td>2.378772e+06</td>\n",
       "    </tr>\n",
       "    <tr>\n",
       "      <th>9</th>\n",
       "      <td>70749100</td>\n",
       "      <td>44143900</td>\n",
       "      <td>33029100</td>\n",
       "      <td>4.930737e+07</td>\n",
       "      <td>1.582605e+07</td>\n",
       "    </tr>\n",
       "    <tr>\n",
       "      <th>11</th>\n",
       "      <td>6670093800</td>\n",
       "      <td>5903171200</td>\n",
       "      <td>5602401900</td>\n",
       "      <td>6.058556e+09</td>\n",
       "      <td>4.495181e+08</td>\n",
       "    </tr>\n",
       "    <tr>\n",
       "      <th>13</th>\n",
       "      <td>912372098900</td>\n",
       "      <td>660081620800</td>\n",
       "      <td>688110395500</td>\n",
       "      <td>7.535214e+11</td>\n",
       "      <td>1.129058e+11</td>\n",
       "    </tr>\n",
       "  </tbody>\n",
       "</table>\n",
       "</div>"
      ],
      "text/plain": [
       "     tentativa_1   tentativa_2   tentativa_3         media        desvio\n",
       "3          54200         79800         41300  5.843333e+04  1.600007e+04\n",
       "5         704100        339400        277900  4.404667e+05  1.881001e+05\n",
       "7        7127600       2925000       1531000  3.861200e+06  2.378772e+06\n",
       "9       70749100      44143900      33029100  4.930737e+07  1.582605e+07\n",
       "11    6670093800    5903171200    5602401900  6.058556e+09  4.495181e+08\n",
       "13  912372098900  660081620800  688110395500  7.535214e+11  1.129058e+11"
      ]
     },
     "execution_count": 42,
     "metadata": {},
     "output_type": "execute_result"
    }
   ],
   "source": [
    "v2_optimization_times_ns"
   ]
  },
  {
   "cell_type": "code",
   "execution_count": 43,
   "metadata": {},
   "outputs": [
    {
     "data": {
      "text/html": [
       "<div>\n",
       "<style scoped>\n",
       "    .dataframe tbody tr th:only-of-type {\n",
       "        vertical-align: middle;\n",
       "    }\n",
       "\n",
       "    .dataframe tbody tr th {\n",
       "        vertical-align: top;\n",
       "    }\n",
       "\n",
       "    .dataframe thead th {\n",
       "        text-align: right;\n",
       "    }\n",
       "</style>\n",
       "<table border=\"1\" class=\"dataframe\">\n",
       "  <thead>\n",
       "    <tr style=\"text-align: right;\">\n",
       "      <th></th>\n",
       "      <th>tentativa_1</th>\n",
       "      <th>tentativa_2</th>\n",
       "      <th>tentativa_3</th>\n",
       "      <th>media</th>\n",
       "      <th>desvio</th>\n",
       "    </tr>\n",
       "  </thead>\n",
       "  <tbody>\n",
       "    <tr>\n",
       "      <th>3</th>\n",
       "      <td>0</td>\n",
       "      <td>0</td>\n",
       "      <td>0</td>\n",
       "      <td>0.000000</td>\n",
       "      <td>0.000000</td>\n",
       "    </tr>\n",
       "    <tr>\n",
       "      <th>5</th>\n",
       "      <td>4</td>\n",
       "      <td>0</td>\n",
       "      <td>0</td>\n",
       "      <td>1.333333</td>\n",
       "      <td>1.885618</td>\n",
       "    </tr>\n",
       "    <tr>\n",
       "      <th>7</th>\n",
       "      <td>0</td>\n",
       "      <td>0</td>\n",
       "      <td>0</td>\n",
       "      <td>0.000000</td>\n",
       "      <td>0.000000</td>\n",
       "    </tr>\n",
       "    <tr>\n",
       "      <th>9</th>\n",
       "      <td>78</td>\n",
       "      <td>47</td>\n",
       "      <td>32</td>\n",
       "      <td>52.333333</td>\n",
       "      <td>19.154344</td>\n",
       "    </tr>\n",
       "    <tr>\n",
       "      <th>11</th>\n",
       "      <td>6660</td>\n",
       "      <td>5894</td>\n",
       "      <td>5599</td>\n",
       "      <td>6051.000000</td>\n",
       "      <td>447.151727</td>\n",
       "    </tr>\n",
       "    <tr>\n",
       "      <th>13</th>\n",
       "      <td>912376</td>\n",
       "      <td>660080</td>\n",
       "      <td>688116</td>\n",
       "      <td>753524.000000</td>\n",
       "      <td>112906.960966</td>\n",
       "    </tr>\n",
       "  </tbody>\n",
       "</table>\n",
       "</div>"
      ],
      "text/plain": [
       "    tentativa_1  tentativa_2  tentativa_3          media         desvio\n",
       "3             0            0            0       0.000000       0.000000\n",
       "5             4            0            0       1.333333       1.885618\n",
       "7             0            0            0       0.000000       0.000000\n",
       "9            78           47           32      52.333333      19.154344\n",
       "11         6660         5894         5599    6051.000000     447.151727\n",
       "13       912376       660080       688116  753524.000000  112906.960966"
      ]
     },
     "execution_count": 43,
     "metadata": {},
     "output_type": "execute_result"
    }
   ],
   "source": [
    "v2_optimization_times_ms"
   ]
  },
  {
   "cell_type": "code",
   "execution_count": 44,
   "metadata": {},
   "outputs": [],
   "source": [
    "import matplotlib.pyplot as plt"
   ]
  },
  {
   "cell_type": "code",
   "execution_count": 45,
   "metadata": {},
   "outputs": [],
   "source": [
    "def showResults(datasets, title, labels, log=True, show_std=True):\n",
    "    #imprime resultados em forma de gráfico\n",
    "\n",
    "    plt.figure(figsize=(10, 6))  # Ajuste o tamanho da figura conforme necessário\n",
    "\n",
    "    for i, data in enumerate(datasets):\n",
    "        index = data.index\n",
    "        mean = data['media']\n",
    "        std = data['desvio']\n",
    "        \n",
    "        # Plotar a média das linhas\n",
    "        plt.plot(mean.to_numpy(), marker='o', label=labels[i])  # Remova 'index.to_numpy()' aqui\n",
    "\n",
    "        # Preencher a área entre a média +/- desvio padrão\n",
    "        if show_std:\n",
    "            plt.fill_between(range(len(index)), mean - std, mean + std, alpha=0.2)  # Use 'range(len(index))' como eixo x\n",
    "\n",
    "    plt.xlabel('Ordem Matricial')\n",
    "    plt.ylabel('Tempo')\n",
    "    plt.title(title)\n",
    "    plt.legend()\n",
    "\n",
    "    if log:\n",
    "        plt.yscale('log')\n",
    "    \n",
    "    # Defina os rótulos do eixo x para usar os valores de index.to_numpy()\n",
    "    plt.xticks(range(len(index)), index.to_numpy())\n",
    "\n",
    "    plt.grid()\n",
    "    plt.show()"
   ]
  },
  {
   "cell_type": "markdown",
   "metadata": {},
   "source": [
    "Os resultados em escala logarítmica:"
   ]
  },
  {
   "cell_type": "code",
   "execution_count": 46,
   "metadata": {},
   "outputs": [
    {
     "data": {
      "image/png": "[encoded data removed]",
      "text/plain": [
       "<Figure size 720x432 with 1 Axes>"
      ]
     },
     "metadata": {
      "needs_background": "light"
     },
     "output_type": "display_data"
    }
   ],
   "source": [
    "showResults(\n",
    "    datasets=[baseline_times_ns, v1_optimization_times_ns, v2_optimization_times_ns],\n",
    "    title='Tempo de Execução Médio (em ns) - Algoritmos para Cálculo de Determinante',\n",
    "    labels=['Baseline', 'Otimização Simples', 'Otimizações Extras'],\n",
    "    log=True,\n",
    "    show_std=False,\n",
    ")"
   ]
  },
  {
   "cell_type": "markdown",
   "metadata": {},
   "source": [
    "Os resultados em escala normal:"
   ]
  },
  {
   "cell_type": "code",
   "execution_count": 47,
   "metadata": {},
   "outputs": [
    {
     "data": {
      "image/png": "[encoded data removed]",
      "text/plain": [
       "<Figure size 720x432 with 1 Axes>"
      ]
     },
     "metadata": {
      "needs_background": "light"
     },
     "output_type": "display_data"
    }
   ],
   "source": [
    "showResults(\n",
    "    datasets=[baseline_times_ns, v1_optimization_times_ns, v2_optimization_times_ns],\n",
    "    title='Tempo de Execução Médio (em ns) - Algoritmos para Cálculo de Determinante',\n",
    "    labels=['Baseline', 'Otimização Simples', 'Otimizações Extras'],\n",
    "    log=False,\n",
    "    show_std=False,\n",
    ")"
   ]
  },
  {
   "cell_type": "markdown",
   "metadata": {},
   "source": [
    "Podemos visualizar a performance como **porcentagem**:"
   ]
  },
  {
   "cell_type": "markdown",
   "metadata": {},
   "source": [
    "Desempenho percentual médio da otimização simples:"
   ]
  },
  {
   "cell_type": "code",
   "execution_count": 48,
   "metadata": {},
   "outputs": [
    {
     "data": {
      "text/plain": [
       "3     125.000000\n",
       "5     115.234529\n",
       "7     104.752795\n",
       "9      36.219213\n",
       "11     74.801052\n",
       "13     57.775760\n",
       "Name: media, dtype: float64"
      ]
     },
     "execution_count": 48,
     "metadata": {},
     "output_type": "execute_result"
    }
   ],
   "source": [
    "100 * (v1_optimization_times_ns['media'] / baseline_times_ns['media'])"
   ]
  },
  {
   "cell_type": "markdown",
   "metadata": {},
   "source": [
    "Desempenho percentual médio da otimização extra:"
   ]
  },
  {
   "cell_type": "code",
   "execution_count": 49,
   "metadata": {},
   "outputs": [
    {
     "data": {
      "text/plain": [
       "3     277.373418\n",
       "5     260.425700\n",
       "7     191.028728\n",
       "9      80.785749\n",
       "11    124.132275\n",
       "13    100.421579\n",
       "Name: media, dtype: float64"
      ]
     },
     "execution_count": 49,
     "metadata": {},
     "output_type": "execute_result"
    }
   ],
   "source": [
    "100 * (v2_optimization_times_ns['media'] / baseline_times_ns['media'])"
   ]
  },
  {
   "cell_type": "markdown",
   "metadata": {},
   "source": [
    "Desempenho percentual da primeira otimização em relação a segunda:"
   ]
  },
  {
   "cell_type": "code",
   "execution_count": 50,
   "metadata": {},
   "outputs": [
    {
     "data": {
      "text/plain": [
       "3     45.065602\n",
       "5     44.248524\n",
       "7     54.836148\n",
       "9     44.833666\n",
       "11    60.259149\n",
       "13    57.533213\n",
       "Name: media, dtype: float64"
      ]
     },
     "execution_count": 50,
     "metadata": {},
     "output_type": "execute_result"
    }
   ],
   "source": [
    "100 * (v1_optimization_times_ns['media'] / v2_optimization_times_ns['media'])"
   ]
  },
  {
   "cell_type": "markdown",
   "metadata": {},
   "source": [
    "Desempenho percentual da segunda otimização em relação a primeira:"
   ]
  },
  {
   "cell_type": "code",
   "execution_count": 51,
   "metadata": {},
   "outputs": [
    {
     "data": {
      "text/plain": [
       "3     221.898734\n",
       "5     225.996237\n",
       "7     182.361461\n",
       "9     223.046673\n",
       "11    165.949904\n",
       "13    173.812648\n",
       "Name: media, dtype: float64"
      ]
     },
     "execution_count": 51,
     "metadata": {},
     "output_type": "execute_result"
    }
   ],
   "source": [
    "100 * (v2_optimization_times_ns['media'] / v1_optimization_times_ns['media'])"
   ]
  }
 ],
 "metadata": {
  "kernelspec": {
   "display_name": "Python 3",
   "language": "python",
   "name": "python3"
  },
  "language_info": {
   "codemirror_mode": {
    "name": "ipython",
    "version": 3
   },
   "file_extension": ".py",
   "mimetype": "text/x-python",
   "name": "python",
   "nbconvert_exporter": "python",
   "pygments_lexer": "ipython3",
   "version": "3.10.12"
  },
  "orig_nbformat": 4
 },
 "nbformat": 4,
 "nbformat_minor": 2
}
