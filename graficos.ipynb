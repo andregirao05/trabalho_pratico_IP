{
 "cells": [
  {
   "cell_type": "markdown",
   "metadata": {},
   "source": [
    "# Código para geração de gráficos\n",
    "\n",
    "O código abaixo cria os gráficos utilizados no trabalho com base nos arquivos de saída do algoritmo criado com Java."
   ]
  },
  {
   "cell_type": "markdown",
   "metadata": {},
   "source": [
    "## Importando dados\n",
    "\n",
    "Antes de mais nada, precisamos importar os dados de duração do algoritmo de determinantes aplicando:\n",
    "\n",
    "- Nenhuma otimização (baseline);\n",
    "\n",
    "- Otimizações iniciais (versão 1);\n",
    "\n",
    "- Otimizações extras (versão 2)."
   ]
  },
  {
   "cell_type": "code",
   "execution_count": 1,
   "metadata": {},
   "outputs": [],
   "source": [
    "import pandas as pd\n",
    "\n",
    "# Constantes que servem de rótulos dos dataframes seguintes\n",
    "HEADER = ['tentativa_1', 'tentativa_2', 'tentativa_3']\n",
    "INDEX = [3, 5, 7, 9, 11, 13]\n",
    "\n",
    "# Bases de dados extraídas dos arquivos de saída de cada algoritmo\n",
    "baseline_times = pd.read_csv('saida_baseline_em_ns.txt', sep=' ', lineterminator='\\n', names=HEADER, index_col=False)\n",
    "baseline_times.index = INDEX\n",
    "\n",
    "v1_optimization_times = pd.read_csv('saida_otimizacao_v1_em_ns.txt', sep=' ', lineterminator='\\n', names=HEADER, index_col=False)\n",
    "v1_optimization_times.index = INDEX\n",
    "\n",
    "v2_optimization_times = pd.read_csv('saida_otimizacao_v2_em_ns.txt', sep=' ', lineterminator='\\n', names=HEADER, index_col=False)\n",
    "v2_optimization_times.index = INDEX"
   ]
  },
  {
   "cell_type": "markdown",
   "metadata": {},
   "source": [
    "## Visualizando os dados\n",
    "\n",
    "Vamos mostrar o comportamento temporal dos algoritmos usando os dados importados. Antes disso, vamos visualizar as tabelas com os valores de tempo.\n",
    "\n",
    "OBS: Os valores estão expressos em nanossegundos (para ordens < 9) e em milissegundos (para ordens >= 9).\n",
    "\n",
    "Nas tabelas, as linhas representam a ordem matricial e as colunas representam as três tentativas utilizadas para fazer medições."
   ]
  },
  {
   "cell_type": "markdown",
   "metadata": {},
   "source": [
    "Primeiro, vamos adicionar aos dados as *médias* de cada algoritmo:"
   ]
  },
  {
   "cell_type": "code",
   "execution_count": 2,
   "metadata": {},
   "outputs": [],
   "source": [
    "baseline_times['media'] = baseline_times.mean(axis=1)\n",
    "v1_optimization_times['media'] = v1_optimization_times.mean(axis=1)\n",
    "v2_optimization_times['media'] = v2_optimization_times.mean(axis=1)"
   ]
  },
  {
   "cell_type": "markdown",
   "metadata": {},
   "source": [
    "Vamos adicionar aos dados o *desvio padrão* de cada algoritmo:"
   ]
  },
  {
   "cell_type": "code",
   "execution_count": 3,
   "metadata": {},
   "outputs": [],
   "source": [
    "baseline_times['desvio'] = baseline_times.std(axis=1)\n",
    "v1_optimization_times['desvio'] = v1_optimization_times.std(axis=1)\n",
    "v2_optimization_times['desvio'] = v2_optimization_times.std(axis=1)"
   ]
  },
  {
   "cell_type": "markdown",
   "metadata": {},
   "source": [
    "Agora, podemos visualizar os dados em formato de tabela.\n",
    "\n",
    "Primeiro, o resultado da execução do algoritmo sem otimizações (baseline)."
   ]
  },
  {
   "cell_type": "code",
   "execution_count": 4,
   "metadata": {},
   "outputs": [
    {
     "data": {
      "text/html": [
       "<div>\n",
       "<style scoped>\n",
       "    .dataframe tbody tr th:only-of-type {\n",
       "        vertical-align: middle;\n",
       "    }\n",
       "\n",
       "    .dataframe tbody tr th {\n",
       "        vertical-align: top;\n",
       "    }\n",
       "\n",
       "    .dataframe thead th {\n",
       "        text-align: right;\n",
       "    }\n",
       "</style>\n",
       "<table border=\"1\" class=\"dataframe\">\n",
       "  <thead>\n",
       "    <tr style=\"text-align: right;\">\n",
       "      <th></th>\n",
       "      <th>tentativa_1</th>\n",
       "      <th>tentativa_2</th>\n",
       "      <th>tentativa_3</th>\n",
       "      <th>media</th>\n",
       "      <th>desvio</th>\n",
       "    </tr>\n",
       "  </thead>\n",
       "  <tbody>\n",
       "    <tr>\n",
       "      <th>3</th>\n",
       "      <td>44283</td>\n",
       "      <td>107998</td>\n",
       "      <td>163954</td>\n",
       "      <td>1.054117e+05</td>\n",
       "      <td>4.888970e+04</td>\n",
       "    </tr>\n",
       "    <tr>\n",
       "      <th>5</th>\n",
       "      <td>338809</td>\n",
       "      <td>284300</td>\n",
       "      <td>276817</td>\n",
       "      <td>2.999753e+05</td>\n",
       "      <td>2.762896e+04</td>\n",
       "    </tr>\n",
       "    <tr>\n",
       "      <th>7</th>\n",
       "      <td>7450144</td>\n",
       "      <td>10134753</td>\n",
       "      <td>17412725</td>\n",
       "      <td>1.166587e+07</td>\n",
       "      <td>4.208840e+06</td>\n",
       "    </tr>\n",
       "    <tr>\n",
       "      <th>9</th>\n",
       "      <td>229005678</td>\n",
       "      <td>82271042</td>\n",
       "      <td>116632163</td>\n",
       "      <td>1.426363e+08</td>\n",
       "      <td>6.266272e+07</td>\n",
       "    </tr>\n",
       "    <tr>\n",
       "      <th>11</th>\n",
       "      <td>10296979500</td>\n",
       "      <td>7336718657</td>\n",
       "      <td>7206334937</td>\n",
       "      <td>8.280011e+09</td>\n",
       "      <td>1.427205e+09</td>\n",
       "    </tr>\n",
       "    <tr>\n",
       "      <th>13</th>\n",
       "      <td>1104894652384</td>\n",
       "      <td>1102737675447</td>\n",
       "      <td>1101266217301</td>\n",
       "      <td>1.102966e+12</td>\n",
       "      <td>1.490089e+09</td>\n",
       "    </tr>\n",
       "  </tbody>\n",
       "</table>\n",
       "</div>"
      ],
      "text/plain": [
       "      tentativa_1    tentativa_2    tentativa_3         media        desvio\n",
       "3           44283         107998         163954  1.054117e+05  4.888970e+04\n",
       "5          338809         284300         276817  2.999753e+05  2.762896e+04\n",
       "7         7450144       10134753       17412725  1.166587e+07  4.208840e+06\n",
       "9       229005678       82271042      116632163  1.426363e+08  6.266272e+07\n",
       "11    10296979500     7336718657     7206334937  8.280011e+09  1.427205e+09\n",
       "13  1104894652384  1102737675447  1101266217301  1.102966e+12  1.490089e+09"
      ]
     },
     "execution_count": 4,
     "metadata": {},
     "output_type": "execute_result"
    }
   ],
   "source": [
    "baseline_times"
   ]
  },
  {
   "cell_type": "markdown",
   "metadata": {},
   "source": [
    "Os resultados do algoritmo com otimizações iniciais (versão 1):"
   ]
  },
  {
   "cell_type": "code",
   "execution_count": 5,
   "metadata": {},
   "outputs": [
    {
     "data": {
      "text/html": [
       "<div>\n",
       "<style scoped>\n",
       "    .dataframe tbody tr th:only-of-type {\n",
       "        vertical-align: middle;\n",
       "    }\n",
       "\n",
       "    .dataframe tbody tr th {\n",
       "        vertical-align: top;\n",
       "    }\n",
       "\n",
       "    .dataframe thead th {\n",
       "        text-align: right;\n",
       "    }\n",
       "</style>\n",
       "<table border=\"1\" class=\"dataframe\">\n",
       "  <thead>\n",
       "    <tr style=\"text-align: right;\">\n",
       "      <th></th>\n",
       "      <th>tentativa_1</th>\n",
       "      <th>tentativa_2</th>\n",
       "      <th>tentativa_3</th>\n",
       "      <th>media</th>\n",
       "      <th>desvio</th>\n",
       "    </tr>\n",
       "  </thead>\n",
       "  <tbody>\n",
       "    <tr>\n",
       "      <th>3</th>\n",
       "      <td>33520</td>\n",
       "      <td>6626441</td>\n",
       "      <td>19829</td>\n",
       "      <td>2.226597e+06</td>\n",
       "      <td>3.111165e+06</td>\n",
       "    </tr>\n",
       "    <tr>\n",
       "      <th>5</th>\n",
       "      <td>4359336</td>\n",
       "      <td>205272</td>\n",
       "      <td>161724</td>\n",
       "      <td>1.575444e+06</td>\n",
       "      <td>1.968589e+06</td>\n",
       "    </tr>\n",
       "    <tr>\n",
       "      <th>7</th>\n",
       "      <td>4737705</td>\n",
       "      <td>1229867</td>\n",
       "      <td>1025762</td>\n",
       "      <td>2.331111e+06</td>\n",
       "      <td>1.703758e+06</td>\n",
       "    </tr>\n",
       "    <tr>\n",
       "      <th>9</th>\n",
       "      <td>56645016</td>\n",
       "      <td>42703385</td>\n",
       "      <td>34998095</td>\n",
       "      <td>4.478217e+07</td>\n",
       "      <td>8.958731e+06</td>\n",
       "    </tr>\n",
       "    <tr>\n",
       "      <th>11</th>\n",
       "      <td>4826241294</td>\n",
       "      <td>4279638167</td>\n",
       "      <td>3974137700</td>\n",
       "      <td>4.360006e+09</td>\n",
       "      <td>3.524811e+08</td>\n",
       "    </tr>\n",
       "    <tr>\n",
       "      <th>13</th>\n",
       "      <td>531570230276</td>\n",
       "      <td>411490964267</td>\n",
       "      <td>341475143877</td>\n",
       "      <td>4.281788e+11</td>\n",
       "      <td>7.849797e+10</td>\n",
       "    </tr>\n",
       "  </tbody>\n",
       "</table>\n",
       "</div>"
      ],
      "text/plain": [
       "     tentativa_1   tentativa_2   tentativa_3         media        desvio\n",
       "3          33520       6626441         19829  2.226597e+06  3.111165e+06\n",
       "5        4359336        205272        161724  1.575444e+06  1.968589e+06\n",
       "7        4737705       1229867       1025762  2.331111e+06  1.703758e+06\n",
       "9       56645016      42703385      34998095  4.478217e+07  8.958731e+06\n",
       "11    4826241294    4279638167    3974137700  4.360006e+09  3.524811e+08\n",
       "13  531570230276  411490964267  341475143877  4.281788e+11  7.849797e+10"
      ]
     },
     "execution_count": 5,
     "metadata": {},
     "output_type": "execute_result"
    }
   ],
   "source": [
    "v1_optimization_times"
   ]
  },
  {
   "cell_type": "markdown",
   "metadata": {},
   "source": [
    "Os resultados do algoritmo com otimizações extras (versão 2):"
   ]
  },
  {
   "cell_type": "code",
   "execution_count": 6,
   "metadata": {},
   "outputs": [
    {
     "data": {
      "text/html": [
       "<div>\n",
       "<style scoped>\n",
       "    .dataframe tbody tr th:only-of-type {\n",
       "        vertical-align: middle;\n",
       "    }\n",
       "\n",
       "    .dataframe tbody tr th {\n",
       "        vertical-align: top;\n",
       "    }\n",
       "\n",
       "    .dataframe thead th {\n",
       "        text-align: right;\n",
       "    }\n",
       "</style>\n",
       "<table border=\"1\" class=\"dataframe\">\n",
       "  <thead>\n",
       "    <tr style=\"text-align: right;\">\n",
       "      <th></th>\n",
       "      <th>tentativa_1</th>\n",
       "      <th>tentativa_2</th>\n",
       "      <th>tentativa_3</th>\n",
       "      <th>media</th>\n",
       "      <th>desvio</th>\n",
       "    </tr>\n",
       "  </thead>\n",
       "  <tbody>\n",
       "    <tr>\n",
       "      <th>3</th>\n",
       "      <td>166936</td>\n",
       "      <td>889952</td>\n",
       "      <td>31469</td>\n",
       "      <td>3.627857e+05</td>\n",
       "      <td>3.768431e+05</td>\n",
       "    </tr>\n",
       "    <tr>\n",
       "      <th>5</th>\n",
       "      <td>268892</td>\n",
       "      <td>341074</td>\n",
       "      <td>138447</td>\n",
       "      <td>2.494710e+05</td>\n",
       "      <td>8.385427e+04</td>\n",
       "    </tr>\n",
       "    <tr>\n",
       "      <th>7</th>\n",
       "      <td>7199562</td>\n",
       "      <td>2126376</td>\n",
       "      <td>20102736</td>\n",
       "      <td>9.809558e+06</td>\n",
       "      <td>7.567317e+06</td>\n",
       "    </tr>\n",
       "    <tr>\n",
       "      <th>9</th>\n",
       "      <td>41582610</td>\n",
       "      <td>50195566</td>\n",
       "      <td>29350616</td>\n",
       "      <td>4.037626e+07</td>\n",
       "      <td>8.552561e+06</td>\n",
       "    </tr>\n",
       "    <tr>\n",
       "      <th>11</th>\n",
       "      <td>4961380827</td>\n",
       "      <td>4338109429</td>\n",
       "      <td>3978193763</td>\n",
       "      <td>4.425895e+09</td>\n",
       "      <td>4.061559e+08</td>\n",
       "    </tr>\n",
       "    <tr>\n",
       "      <th>13</th>\n",
       "      <td>533706785792</td>\n",
       "      <td>410240425255</td>\n",
       "      <td>342476311062</td>\n",
       "      <td>4.288078e+11</td>\n",
       "      <td>7.916580e+10</td>\n",
       "    </tr>\n",
       "  </tbody>\n",
       "</table>\n",
       "</div>"
      ],
      "text/plain": [
       "     tentativa_1   tentativa_2   tentativa_3         media        desvio\n",
       "3         166936        889952         31469  3.627857e+05  3.768431e+05\n",
       "5         268892        341074        138447  2.494710e+05  8.385427e+04\n",
       "7        7199562       2126376      20102736  9.809558e+06  7.567317e+06\n",
       "9       41582610      50195566      29350616  4.037626e+07  8.552561e+06\n",
       "11    4961380827    4338109429    3978193763  4.425895e+09  4.061559e+08\n",
       "13  533706785792  410240425255  342476311062  4.288078e+11  7.916580e+10"
      ]
     },
     "execution_count": 6,
     "metadata": {},
     "output_type": "execute_result"
    }
   ],
   "source": [
    "v2_optimization_times"
   ]
  },
  {
   "cell_type": "code",
   "execution_count": 7,
   "metadata": {},
   "outputs": [],
   "source": [
    "import matplotlib.pyplot as plt"
   ]
  },
  {
   "cell_type": "code",
   "execution_count": 8,
   "metadata": {},
   "outputs": [],
   "source": [
    "def showResults(datasets, labels, log=True, show_std=True, show_in_ms=False):\n",
    "    plt.figure(figsize=(10, 6))  # Ajuste o tamanho da figura conforme necessário\n",
    "\n",
    "    for i, data in enumerate(datasets):\n",
    "        index = data.index\n",
    "        mean = data['media']\n",
    "        std = data['desvio']\n",
    "\n",
    "        if show_in_ms:\n",
    "            mean = mean / (1000 * 1000)\n",
    "            std = std / (1000 * 1000)\n",
    "\n",
    "        # Plotar a média das linhas\n",
    "        plt.plot(mean.to_numpy(), marker='o', label=labels[i])  # Remova 'index.to_numpy()' aqui\n",
    "\n",
    "        # Preencher a área entre a média +/- desvio padrão\n",
    "        if show_std:\n",
    "            plt.fill_between(range(len(index)), mean - std, mean + std, alpha=0.2)  # Use 'range(len(index))' como eixo x\n",
    "\n",
    "    plt.xlabel('Ordem Matricial')\n",
    "    plt.ylabel('Tempo ({})'.format(\"ms\" if show_in_ms else \"ns\"))\n",
    "    plt.title('Tempo de Execução Média - Algoritmos para Cálculo de Determinante')\n",
    "    plt.legend()\n",
    "\n",
    "    if log:\n",
    "        plt.yscale('log')\n",
    "    \n",
    "    # Defina os rótulos do eixo x para usar os valores de index.to_numpy()\n",
    "    plt.xticks(range(len(index)), index.to_numpy())\n",
    "\n",
    "    plt.grid()\n",
    "    plt.show()"
   ]
  },
  {
   "cell_type": "code",
   "execution_count": 9,
   "metadata": {},
   "outputs": [
    {
     "data": {
      "image/png": "[encoded data removed]",
      "text/plain": [
       "<Figure size 720x432 with 1 Axes>"
      ]
     },
     "metadata": {
      "needs_background": "light"
     },
     "output_type": "display_data"
    }
   ],
   "source": [
    "showResults(\n",
    "    datasets=[baseline_times, v1_optimization_times, v2_optimization_times],\n",
    "    labels=['Baseline', 'Otimização Simples', 'Otimizações Extras'],\n",
    "    log=True,\n",
    "    show_std=False,\n",
    "    show_in_ms=True\n",
    ")"
   ]
  },
  {
   "cell_type": "code",
   "execution_count": 14,
   "metadata": {},
   "outputs": [
    {
     "data": {
      "image/png": "[encoded data removed]",
      "text/plain": [
       "<Figure size 720x432 with 1 Axes>"
      ]
     },
     "metadata": {
      "needs_background": "light"
     },
     "output_type": "display_data"
    }
   ],
   "source": [
    "showResults(\n",
    "    datasets=[baseline_times, v1_optimization_times, v2_optimization_times],\n",
    "    labels=['Baseline', 'Otimização Simples', 'Otimizações Extras'],\n",
    "    log=False,\n",
    "    show_std=False,\n",
    "    show_in_ms=False\n",
    ")"
   ]
  }
 ],
 "metadata": {
  "kernelspec": {
   "display_name": "Python 3",
   "language": "python",
   "name": "python3"
  },
  "language_info": {
   "codemirror_mode": {
    "name": "ipython",
    "version": 3
   },
   "file_extension": ".py",
   "mimetype": "text/x-python",
   "name": "python",
   "nbconvert_exporter": "python",
   "pygments_lexer": "ipython3",
   "version": "3.10.12"
  },
  "orig_nbformat": 4
 },
 "nbformat": 4,
 "nbformat_minor": 2
}
